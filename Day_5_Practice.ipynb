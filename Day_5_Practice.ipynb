{
  "nbformat": 4,
  "nbformat_minor": 0,
  "metadata": {
    "colab": {
      "provenance": [],
      "authorship_tag": "ABX9TyO6FSMXto3LozLvWs1cLLhV",
      "include_colab_link": true
    },
    "kernelspec": {
      "name": "python3",
      "display_name": "Python 3"
    },
    "language_info": {
      "name": "python"
    }
  },
  "cells": [
    {
      "cell_type": "markdown",
      "metadata": {
        "id": "view-in-github",
        "colab_type": "text"
      },
      "source": [
        "<a href=\"https://colab.research.google.com/github/faisalmoinuddin99/01/blob/master/Day_5_Practice.ipynb\" target=\"_parent\"><img src=\"https://colab.research.google.com/assets/colab-badge.svg\" alt=\"Open In Colab\"/></a>"
      ]
    },
    {
      "cell_type": "markdown",
      "source": [
        "1. Given a list `numbers = [2, 4, 6, 8, 10]`, extract\n",
        "the sub-list `[4, 6]`."
      ],
      "metadata": {
        "id": "b8S3JHDcqr5V"
      }
    },
    {
      "cell_type": "code",
      "execution_count": 2,
      "metadata": {
        "colab": {
          "base_uri": "https://localhost:8080/"
        },
        "id": "gjSTi89MqkO6",
        "outputId": "ff1fbc99-eb32-4a0e-8411-c7c9ade2c820"
      },
      "outputs": [
        {
          "output_type": "execute_result",
          "data": {
            "text/plain": [
              "[4, 6]"
            ]
          },
          "metadata": {},
          "execution_count": 2
        }
      ],
      "source": [
        "numbers = [2, 4, 6, 8, 10]\n",
        "numbers[1:3]"
      ]
    },
    {
      "cell_type": "markdown",
      "source": [
        "2. Create an empty list called `shopping_list`.Add\n",
        "items like \"milk\", \"eggs\", and \"bread\".\n"
      ],
      "metadata": {
        "id": "8wwpGzRTq8k0"
      }
    },
    {
      "cell_type": "code",
      "source": [
        "shopping_list=[]\n",
        "\n",
        "shopping_list.append('milk')\n",
        "shopping_list.append('eggs')\n",
        "shopping_list.append('bread')"
      ],
      "metadata": {
        "id": "m_67X64Nq9rs"
      },
      "execution_count": 3,
      "outputs": []
    },
    {
      "cell_type": "code",
      "source": [
        "shopping_list"
      ],
      "metadata": {
        "colab": {
          "base_uri": "https://localhost:8080/"
        },
        "id": "yCzXEzrCqx1e",
        "outputId": "8daa0f5e-c95e-4793-b89a-57b45d8b86c7"
      },
      "execution_count": 4,
      "outputs": [
        {
          "output_type": "execute_result",
          "data": {
            "text/plain": [
              "['milk', 'eggs', 'bread']"
            ]
          },
          "metadata": {},
          "execution_count": 4
        }
      ]
    },
    {
      "cell_type": "markdown",
      "source": [
        "3. Given a list `languages = [\"Python\", \"Java\",\n",
        "\"C++\"]`, add \"JavaScript\" at index 1."
      ],
      "metadata": {
        "id": "NoBBrySxrU18"
      }
    },
    {
      "cell_type": "code",
      "source": [
        "languages = [\"Python\",\"Java\",\"C++\"]"
      ],
      "metadata": {
        "id": "KJm5W_uGrTBf"
      },
      "execution_count": 5,
      "outputs": []
    },
    {
      "cell_type": "code",
      "source": [
        "languages"
      ],
      "metadata": {
        "colab": {
          "base_uri": "https://localhost:8080/"
        },
        "id": "GxipaKTirejL",
        "outputId": "19ad23b1-c866-484d-87e2-eb185a0c6de9"
      },
      "execution_count": 6,
      "outputs": [
        {
          "output_type": "execute_result",
          "data": {
            "text/plain": [
              "['Python', 'Java', 'C++']"
            ]
          },
          "metadata": {},
          "execution_count": 6
        }
      ]
    },
    {
      "cell_type": "code",
      "source": [
        "languages.insert(1,\"JavaScript\")\n",
        "languages"
      ],
      "metadata": {
        "colab": {
          "base_uri": "https://localhost:8080/"
        },
        "id": "q-AcrrqNrgEw",
        "outputId": "dfc2e722-8308-4550-b7e0-d4fa3a816079"
      },
      "execution_count": 7,
      "outputs": [
        {
          "output_type": "execute_result",
          "data": {
            "text/plain": [
              "['Python', 'JavaScript', 'Java', 'C++']"
            ]
          },
          "metadata": {},
          "execution_count": 7
        }
      ]
    },
    {
      "cell_type": "markdown",
      "source": [
        "4. Extend the list `[1, 2, 3]` with the elements `[4,\n",
        "5, 6]`."
      ],
      "metadata": {
        "id": "18_Or68nrtdD"
      }
    },
    {
      "cell_type": "code",
      "source": [
        "lst1 = [1,2,3]\n",
        "lst2 = [4,5,6]\n",
        "\n",
        "lst1\n"
      ],
      "metadata": {
        "colab": {
          "base_uri": "https://localhost:8080/"
        },
        "id": "7R7fs30OrpAj",
        "outputId": "a6ff1c92-655d-46ac-cee4-b33abf9a6109"
      },
      "execution_count": 10,
      "outputs": [
        {
          "output_type": "execute_result",
          "data": {
            "text/plain": [
              "[1, 2, 3]"
            ]
          },
          "metadata": {},
          "execution_count": 10
        }
      ]
    },
    {
      "cell_type": "code",
      "source": [
        "lst2"
      ],
      "metadata": {
        "colab": {
          "base_uri": "https://localhost:8080/"
        },
        "id": "0F06o51Nr0vv",
        "outputId": "486db210-893c-44d7-87bc-cd4c84464104"
      },
      "execution_count": 11,
      "outputs": [
        {
          "output_type": "execute_result",
          "data": {
            "text/plain": [
              "[4, 5, 6]"
            ]
          },
          "metadata": {},
          "execution_count": 11
        }
      ]
    },
    {
      "cell_type": "code",
      "source": [
        "lst1.extend(lst2)"
      ],
      "metadata": {
        "id": "kz1UMbBur5od"
      },
      "execution_count": 12,
      "outputs": []
    },
    {
      "cell_type": "code",
      "source": [
        "lst1"
      ],
      "metadata": {
        "colab": {
          "base_uri": "https://localhost:8080/"
        },
        "id": "7JLE7JdUr8TX",
        "outputId": "0471f8ab-6ffd-4d83-93fe-22adad894c1e"
      },
      "execution_count": 13,
      "outputs": [
        {
          "output_type": "execute_result",
          "data": {
            "text/plain": [
              "[1, 2, 3, 4, 5, 6]"
            ]
          },
          "metadata": {},
          "execution_count": 13
        }
      ]
    },
    {
      "cell_type": "markdown",
      "source": [
        "5. Remove the element \"banana\" from the list\n",
        "`fruits = [\"apple\", \"banana\", \"cherry\"]`.\n"
      ],
      "metadata": {
        "id": "Qomu8oZjr_cB"
      }
    },
    {
      "cell_type": "code",
      "source": [
        "fruits = [\"apple\",\"banana\",\"cherry\"]\n",
        "fruits"
      ],
      "metadata": {
        "colab": {
          "base_uri": "https://localhost:8080/"
        },
        "id": "tCjHDgatr9R3",
        "outputId": "60dbe9dc-87e4-4572-8206-1d35a2fbe3d2"
      },
      "execution_count": 14,
      "outputs": [
        {
          "output_type": "execute_result",
          "data": {
            "text/plain": [
              "['apple', 'banana', 'cherry']"
            ]
          },
          "metadata": {},
          "execution_count": 14
        }
      ]
    },
    {
      "cell_type": "code",
      "source": [
        "fruits.remove(\"banana\")"
      ],
      "metadata": {
        "id": "DJUKHx6csG8P"
      },
      "execution_count": 15,
      "outputs": []
    },
    {
      "cell_type": "code",
      "source": [
        "fruits"
      ],
      "metadata": {
        "colab": {
          "base_uri": "https://localhost:8080/"
        },
        "id": "RyFgyVHXsMdf",
        "outputId": "3bb1f438-63d8-4593-f750-2a861a3c01f9"
      },
      "execution_count": 16,
      "outputs": [
        {
          "output_type": "execute_result",
          "data": {
            "text/plain": [
              "['apple', 'cherry']"
            ]
          },
          "metadata": {},
          "execution_count": 16
        }
      ]
    },
    {
      "cell_type": "markdown",
      "source": [
        "6. Given a list `names = [\"Alice\", \"Bob\", \"Charlie\"]`,\n",
        "remove and print the last element."
      ],
      "metadata": {
        "id": "UiyD_4BRsQMJ"
      }
    },
    {
      "cell_type": "code",
      "source": [
        "names = [\"Alice\",\"Bob\",\"Charlie\"]\n",
        "names"
      ],
      "metadata": {
        "colab": {
          "base_uri": "https://localhost:8080/"
        },
        "id": "6SojMI2RsNcD",
        "outputId": "b71673f6-bbaf-4e38-9ab8-fc53f55b01c9"
      },
      "execution_count": 17,
      "outputs": [
        {
          "output_type": "execute_result",
          "data": {
            "text/plain": [
              "['Alice', 'Bob', 'Charlie']"
            ]
          },
          "metadata": {},
          "execution_count": 17
        }
      ]
    },
    {
      "cell_type": "code",
      "source": [
        "last_element = names.pop()"
      ],
      "metadata": {
        "id": "f8cV3XwLsVkK"
      },
      "execution_count": 18,
      "outputs": []
    },
    {
      "cell_type": "code",
      "source": [
        "last_element"
      ],
      "metadata": {
        "colab": {
          "base_uri": "https://localhost:8080/",
          "height": 35
        },
        "id": "kzGuS-CNsY_4",
        "outputId": "a37764b0-4ea5-438a-c597-8d6b248bb933"
      },
      "execution_count": 19,
      "outputs": [
        {
          "output_type": "execute_result",
          "data": {
            "text/plain": [
              "'Charlie'"
            ],
            "application/vnd.google.colaboratory.intrinsic+json": {
              "type": "string"
            }
          },
          "metadata": {},
          "execution_count": 19
        }
      ]
    },
    {
      "cell_type": "markdown",
      "source": [
        "7. Count how many times the number 5 appears\n",
        "in the list `numbers = [2, 5, 8, 5, 3, 5]`."
      ],
      "metadata": {
        "id": "1RDcXvXdsdFa"
      }
    },
    {
      "cell_type": "code",
      "source": [
        "numbers = [2,5,8,5,3,5]\n",
        "numbers"
      ],
      "metadata": {
        "colab": {
          "base_uri": "https://localhost:8080/"
        },
        "id": "-J_eUtsZsaY-",
        "outputId": "8254614d-74b0-4704-e59b-8879ae55413a"
      },
      "execution_count": 20,
      "outputs": [
        {
          "output_type": "execute_result",
          "data": {
            "text/plain": [
              "[2, 5, 8, 5, 3, 5]"
            ]
          },
          "metadata": {},
          "execution_count": 20
        }
      ]
    },
    {
      "cell_type": "code",
      "source": [
        "numbers.count(5)"
      ],
      "metadata": {
        "colab": {
          "base_uri": "https://localhost:8080/"
        },
        "id": "PgD2ivDVsiCG",
        "outputId": "19a6da1b-0acf-40ed-db99-bcf83838efed"
      },
      "execution_count": 21,
      "outputs": [
        {
          "output_type": "execute_result",
          "data": {
            "text/plain": [
              "3"
            ]
          },
          "metadata": {},
          "execution_count": 21
        }
      ]
    },
    {
      "cell_type": "markdown",
      "source": [
        "8. Sort the list of integers `numbers = [5, 2, 8, 1,\n",
        "3]` in ascending order.\n"
      ],
      "metadata": {
        "id": "3OyxDwMFsm84"
      }
    },
    {
      "cell_type": "code",
      "source": [
        "numbers = [5,2,8,1,3]\n",
        "numbers"
      ],
      "metadata": {
        "colab": {
          "base_uri": "https://localhost:8080/"
        },
        "id": "E_vdx1YNskbf",
        "outputId": "7e8c6ba4-e6e5-4332-b4f3-e9ab4a2fc087"
      },
      "execution_count": 22,
      "outputs": [
        {
          "output_type": "execute_result",
          "data": {
            "text/plain": [
              "[5, 2, 8, 1, 3]"
            ]
          },
          "metadata": {},
          "execution_count": 22
        }
      ]
    },
    {
      "cell_type": "code",
      "source": [
        "numbers.sort()"
      ],
      "metadata": {
        "id": "jU2FqM7qsrBN"
      },
      "execution_count": 23,
      "outputs": []
    },
    {
      "cell_type": "code",
      "source": [
        "numbers"
      ],
      "metadata": {
        "colab": {
          "base_uri": "https://localhost:8080/"
        },
        "id": "UtKTQAKwswZ4",
        "outputId": "2cec8740-088c-43db-c533-c8c9ce336a14"
      },
      "execution_count": 24,
      "outputs": [
        {
          "output_type": "execute_result",
          "data": {
            "text/plain": [
              "[1, 2, 3, 5, 8]"
            ]
          },
          "metadata": {},
          "execution_count": 24
        }
      ]
    },
    {
      "cell_type": "markdown",
      "source": [
        "9. Reverse the list of integers `numbers = [5, 2, 8,\n",
        "1, 3]`.\n"
      ],
      "metadata": {
        "id": "-j6-Jwe2s1RR"
      }
    },
    {
      "cell_type": "code",
      "source": [
        "numbers = [5,2,8,1,3]\n",
        "\n",
        "numbers"
      ],
      "metadata": {
        "colab": {
          "base_uri": "https://localhost:8080/"
        },
        "id": "Tc8PsG9SsxfH",
        "outputId": "77089e59-d2a7-4492-e4cc-187940651f39"
      },
      "execution_count": 25,
      "outputs": [
        {
          "output_type": "execute_result",
          "data": {
            "text/plain": [
              "[5, 2, 8, 1, 3]"
            ]
          },
          "metadata": {},
          "execution_count": 25
        }
      ]
    },
    {
      "cell_type": "code",
      "source": [
        "numbers.reverse()"
      ],
      "metadata": {
        "id": "2UrHRxAzs5Bd"
      },
      "execution_count": 26,
      "outputs": []
    },
    {
      "cell_type": "code",
      "source": [
        "numbers"
      ],
      "metadata": {
        "colab": {
          "base_uri": "https://localhost:8080/"
        },
        "id": "A-qeNvUMs7Xb",
        "outputId": "e16b9355-e4dc-4023-e104-f2e26f31b114"
      },
      "execution_count": 27,
      "outputs": [
        {
          "output_type": "execute_result",
          "data": {
            "text/plain": [
              "[3, 1, 8, 2, 5]"
            ]
          },
          "metadata": {},
          "execution_count": 27
        }
      ]
    },
    {
      "cell_type": "markdown",
      "source": [
        "10. Create a list of strings `fruits = [\"apple\",\n",
        "\"banana\", \"cherry\", \"date\"]`.Get the last two\n",
        "elements."
      ],
      "metadata": {
        "id": "Df3gx2S4tThh"
      }
    },
    {
      "cell_type": "code",
      "source": [
        "fruits = [\"apple\",\"banana\",\"cherry\",\"date\"]\n",
        "fruits"
      ],
      "metadata": {
        "colab": {
          "base_uri": "https://localhost:8080/"
        },
        "id": "PS_vamBqs8Sy",
        "outputId": "24ea4449-819e-4224-b9ad-92a81406dd81"
      },
      "execution_count": 28,
      "outputs": [
        {
          "output_type": "execute_result",
          "data": {
            "text/plain": [
              "['apple', 'banana', 'cherry', 'date']"
            ]
          },
          "metadata": {},
          "execution_count": 28
        }
      ]
    },
    {
      "cell_type": "code",
      "source": [
        "fruits[-2:]"
      ],
      "metadata": {
        "colab": {
          "base_uri": "https://localhost:8080/"
        },
        "id": "4ms6dqPutZSC",
        "outputId": "c55bce88-b288-4b74-dcaf-a1be1d5af11a"
      },
      "execution_count": 29,
      "outputs": [
        {
          "output_type": "execute_result",
          "data": {
            "text/plain": [
              "['cherry', 'date']"
            ]
          },
          "metadata": {},
          "execution_count": 29
        }
      ]
    },
    {
      "cell_type": "markdown",
      "source": [
        "11. Add the list `[8, 9, 10]` to the list `[1, 2, 3, 4, 5]`\n",
        "to get a combined list."
      ],
      "metadata": {
        "id": "DnyuOKqKtlsE"
      }
    },
    {
      "cell_type": "code",
      "source": [
        "lst1 = [8,9,10]\n",
        "lst2 = [1,2,3,4,5]"
      ],
      "metadata": {
        "id": "86dgyDLzthiz"
      },
      "execution_count": 30,
      "outputs": []
    },
    {
      "cell_type": "code",
      "source": [
        "lst1"
      ],
      "metadata": {
        "colab": {
          "base_uri": "https://localhost:8080/"
        },
        "id": "iLNY52potuA-",
        "outputId": "fe08253e-9b97-4e29-fce7-7188e1373cf5"
      },
      "execution_count": 31,
      "outputs": [
        {
          "output_type": "execute_result",
          "data": {
            "text/plain": [
              "[8, 9, 10]"
            ]
          },
          "metadata": {},
          "execution_count": 31
        }
      ]
    },
    {
      "cell_type": "code",
      "source": [
        "lst2"
      ],
      "metadata": {
        "colab": {
          "base_uri": "https://localhost:8080/"
        },
        "id": "ppo9TgiEtueC",
        "outputId": "2e46b9da-d5e0-423d-feaf-c9136b40aa52"
      },
      "execution_count": 32,
      "outputs": [
        {
          "output_type": "execute_result",
          "data": {
            "text/plain": [
              "[1, 2, 3, 4, 5]"
            ]
          },
          "metadata": {},
          "execution_count": 32
        }
      ]
    },
    {
      "cell_type": "code",
      "source": [
        "lst1.extend(lst2)"
      ],
      "metadata": {
        "id": "CjUXBapVtu68"
      },
      "execution_count": 33,
      "outputs": []
    },
    {
      "cell_type": "code",
      "source": [
        "lst1"
      ],
      "metadata": {
        "colab": {
          "base_uri": "https://localhost:8080/"
        },
        "id": "wqc3B_xftynT",
        "outputId": "6aa1a375-490f-41c8-c6b4-2f061963acaa"
      },
      "execution_count": 34,
      "outputs": [
        {
          "output_type": "execute_result",
          "data": {
            "text/plain": [
              "[8, 9, 10, 1, 2, 3, 4, 5]"
            ]
          },
          "metadata": {},
          "execution_count": 34
        }
      ]
    },
    {
      "cell_type": "markdown",
      "source": [
        "12. Add the number 7 at the beginning of the list\n",
        "`[1, 2, 3, 4]`."
      ],
      "metadata": {
        "id": "DieDUx3Ut3KT"
      }
    },
    {
      "cell_type": "code",
      "source": [
        "lst1 = [1,2,3,4]\n",
        "lst1"
      ],
      "metadata": {
        "colab": {
          "base_uri": "https://localhost:8080/"
        },
        "id": "waZe-B57tzDX",
        "outputId": "67d8c786-23cc-4acf-afb7-fa8bbed02b22"
      },
      "execution_count": 35,
      "outputs": [
        {
          "output_type": "execute_result",
          "data": {
            "text/plain": [
              "[1, 2, 3, 4]"
            ]
          },
          "metadata": {},
          "execution_count": 35
        }
      ]
    },
    {
      "cell_type": "code",
      "source": [
        "lst1.insert(0,7)\n",
        "\n",
        "lst1"
      ],
      "metadata": {
        "colab": {
          "base_uri": "https://localhost:8080/"
        },
        "id": "7whLo74wt7-X",
        "outputId": "54f792e1-1d5b-45e2-e5b0-bb0621b85354"
      },
      "execution_count": 36,
      "outputs": [
        {
          "output_type": "execute_result",
          "data": {
            "text/plain": [
              "[7, 1, 2, 3, 4]"
            ]
          },
          "metadata": {},
          "execution_count": 36
        }
      ]
    },
    {
      "cell_type": "markdown",
      "source": [
        "13. Given a list `numbers = [5, 10, 15, 20]`, remove\n",
        "the number 15 ."
      ],
      "metadata": {
        "id": "-7P_pGyCuCsA"
      }
    },
    {
      "cell_type": "code",
      "source": [
        "numbers = [5,10,15,20]\n",
        "\n",
        "numbers"
      ],
      "metadata": {
        "colab": {
          "base_uri": "https://localhost:8080/"
        },
        "id": "Pv_Y8jWEt_cT",
        "outputId": "684f22a7-6569-4c42-f99f-5f5668d40d88"
      },
      "execution_count": 37,
      "outputs": [
        {
          "output_type": "execute_result",
          "data": {
            "text/plain": [
              "[5, 10, 15, 20]"
            ]
          },
          "metadata": {},
          "execution_count": 37
        }
      ]
    },
    {
      "cell_type": "code",
      "source": [
        "numbers.remove(15)"
      ],
      "metadata": {
        "id": "CPx1JHZtuIAp"
      },
      "execution_count": 38,
      "outputs": []
    },
    {
      "cell_type": "code",
      "source": [
        "numbers"
      ],
      "metadata": {
        "colab": {
          "base_uri": "https://localhost:8080/"
        },
        "id": "-p7L_FecuOD1",
        "outputId": "79c4b545-90bc-470a-8b4b-a4da8df11107"
      },
      "execution_count": 39,
      "outputs": [
        {
          "output_type": "execute_result",
          "data": {
            "text/plain": [
              "[5, 10, 20]"
            ]
          },
          "metadata": {},
          "execution_count": 39
        }
      ]
    },
    {
      "cell_type": "markdown",
      "source": [
        "16. Given a list `colors = [\"red\", \"green\", \"red\",\n",
        "\"blue\", \"red\"]`, count the occurrences of the string\n",
        "\"red\"."
      ],
      "metadata": {
        "id": "s2IIcPXCuVeS"
      }
    },
    {
      "cell_type": "code",
      "source": [
        "colors = [\"red\", \"green\", \"red\", \"blue\", \"red\"]\n",
        "\n",
        "colors"
      ],
      "metadata": {
        "colab": {
          "base_uri": "https://localhost:8080/"
        },
        "id": "jMO0daiquPJt",
        "outputId": "34033b89-bf1d-436f-d9a5-61d4a4783e2f"
      },
      "execution_count": 40,
      "outputs": [
        {
          "output_type": "execute_result",
          "data": {
            "text/plain": [
              "['red', 'green', 'red', 'blue', 'red']"
            ]
          },
          "metadata": {},
          "execution_count": 40
        }
      ]
    },
    {
      "cell_type": "code",
      "source": [
        "colors.count('red')"
      ],
      "metadata": {
        "colab": {
          "base_uri": "https://localhost:8080/"
        },
        "id": "5k5u8TwauYah",
        "outputId": "3acf3eca-a6ec-421c-fafb-8b998076757f"
      },
      "execution_count": 41,
      "outputs": [
        {
          "output_type": "execute_result",
          "data": {
            "text/plain": [
              "3"
            ]
          },
          "metadata": {},
          "execution_count": 41
        }
      ]
    },
    {
      "cell_type": "markdown",
      "source": [
        "17. Given a list of strings `names = [\"John\",\n",
        "\"Alice\", \"Bob\", \"Eve\"]`, sort it alphabetically.\n"
      ],
      "metadata": {
        "id": "rPMejizMuc3w"
      }
    },
    {
      "cell_type": "code",
      "source": [
        "names = [\"John\", \"Alice\", \"Bob\", \"Eve\"]\n",
        "names"
      ],
      "metadata": {
        "colab": {
          "base_uri": "https://localhost:8080/"
        },
        "id": "9vPvEJXKuZxe",
        "outputId": "e32c709d-0591-4542-db58-c080754ad75d"
      },
      "execution_count": 42,
      "outputs": [
        {
          "output_type": "execute_result",
          "data": {
            "text/plain": [
              "['John', 'Alice', 'Bob', 'Eve']"
            ]
          },
          "metadata": {},
          "execution_count": 42
        }
      ]
    },
    {
      "cell_type": "code",
      "source": [
        "names.sort()"
      ],
      "metadata": {
        "id": "rgblIOZBuf-u"
      },
      "execution_count": 43,
      "outputs": []
    },
    {
      "cell_type": "code",
      "source": [
        "names"
      ],
      "metadata": {
        "colab": {
          "base_uri": "https://localhost:8080/"
        },
        "id": "ovgLGtzluhd8",
        "outputId": "37e89178-29d9-4e9c-9b51-36c5271a9bfc"
      },
      "execution_count": 44,
      "outputs": [
        {
          "output_type": "execute_result",
          "data": {
            "text/plain": [
              "['Alice', 'Bob', 'Eve', 'John']"
            ]
          },
          "metadata": {},
          "execution_count": 44
        }
      ]
    },
    {
      "cell_type": "markdown",
      "source": [
        "18. Given a list of strings `names = [\"John\",\n",
        "\"Alice\", \"Bob\", \"Eve\"]`, reverse the order of\n",
        "elements."
      ],
      "metadata": {
        "id": "vs_qJyywulN6"
      }
    },
    {
      "cell_type": "code",
      "source": [
        "names= [\"John\", \"Alice\", \"Bob\", \"Eve\"]"
      ],
      "metadata": {
        "id": "dIWGDzKOuh2R"
      },
      "execution_count": 45,
      "outputs": []
    },
    {
      "cell_type": "code",
      "source": [
        "names.reverse()"
      ],
      "metadata": {
        "id": "ZHeuRjHzyfcj"
      },
      "execution_count": 46,
      "outputs": []
    },
    {
      "cell_type": "code",
      "source": [
        "names"
      ],
      "metadata": {
        "colab": {
          "base_uri": "https://localhost:8080/"
        },
        "id": "d_ccMffiyhLF",
        "outputId": "e84a51bb-18c5-44bc-fe63-09ac8dc04b06"
      },
      "execution_count": 47,
      "outputs": [
        {
          "output_type": "execute_result",
          "data": {
            "text/plain": [
              "['Eve', 'Bob', 'Alice', 'John']"
            ]
          },
          "metadata": {},
          "execution_count": 47
        }
      ]
    },
    {
      "cell_type": "markdown",
      "source": [
        "19. Using slicing, reverse the order of elements in\n",
        "the list `letters = ['a', 'b', 'c', 'd', 'e']`."
      ],
      "metadata": {
        "id": "y2CuArc3ynpf"
      }
    },
    {
      "cell_type": "code",
      "source": [
        "letters = ['a', 'b', 'c', 'd', 'e']"
      ],
      "metadata": {
        "id": "zfkeOCaayhpK"
      },
      "execution_count": 48,
      "outputs": []
    },
    {
      "cell_type": "code",
      "source": [
        "letters"
      ],
      "metadata": {
        "colab": {
          "base_uri": "https://localhost:8080/"
        },
        "id": "V_sWoZqLysde",
        "outputId": "9a3dd40b-ade1-48c0-c718-88895a69140e"
      },
      "execution_count": 49,
      "outputs": [
        {
          "output_type": "execute_result",
          "data": {
            "text/plain": [
              "['a', 'b', 'c', 'd', 'e']"
            ]
          },
          "metadata": {},
          "execution_count": 49
        }
      ]
    },
    {
      "cell_type": "code",
      "source": [],
      "metadata": {
        "id": "5h50H-mQytFE"
      },
      "execution_count": null,
      "outputs": []
    }
  ]
}
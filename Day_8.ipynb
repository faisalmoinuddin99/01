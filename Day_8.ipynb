{
  "nbformat": 4,
  "nbformat_minor": 0,
  "metadata": {
    "colab": {
      "provenance": [],
      "authorship_tag": "ABX9TyOPvmRyvwhl13QBDMs1U2ZW",
      "include_colab_link": true
    },
    "kernelspec": {
      "name": "python3",
      "display_name": "Python 3"
    },
    "language_info": {
      "name": "python"
    }
  },
  "cells": [
    {
      "cell_type": "markdown",
      "metadata": {
        "id": "view-in-github",
        "colab_type": "text"
      },
      "source": [
        "<a href=\"https://colab.research.google.com/github/faisalmoinuddin99/01/blob/master/Day_8.ipynb\" target=\"_parent\"><img src=\"https://colab.research.google.com/assets/colab-badge.svg\" alt=\"Open In Colab\"/></a>"
      ]
    },
    {
      "cell_type": "markdown",
      "source": [
        "# Functions\n"
      ],
      "metadata": {
        "id": "pTg6HoOt_85g"
      }
    },
    {
      "cell_type": "code",
      "execution_count": 1,
      "metadata": {
        "id": "uXPfdGIr_3pU"
      },
      "outputs": [],
      "source": [
        "def my_function(x,y,z=1.5):\n",
        "  if z > 1:\n",
        "    return z * (x + y)\n",
        "  else:\n",
        "    return z / (x + y)"
      ]
    },
    {
      "cell_type": "code",
      "source": [
        "my_function(2,3)"
      ],
      "metadata": {
        "colab": {
          "base_uri": "https://localhost:8080/"
        },
        "id": "9_HyVVOsAU2h",
        "outputId": "eb66d96d-3466-4280-cc9c-2dc138b1d97f"
      },
      "execution_count": 2,
      "outputs": [
        {
          "output_type": "execute_result",
          "data": {
            "text/plain": [
              "7.5"
            ]
          },
          "metadata": {},
          "execution_count": 2
        }
      ]
    },
    {
      "cell_type": "code",
      "source": [
        "my_function(2,3,1)"
      ],
      "metadata": {
        "colab": {
          "base_uri": "https://localhost:8080/"
        },
        "id": "yEV86N-FAcVH",
        "outputId": "84786d56-39ec-4acd-835d-6f6981b82e02"
      },
      "execution_count": 3,
      "outputs": [
        {
          "output_type": "execute_result",
          "data": {
            "text/plain": [
              "0.2"
            ]
          },
          "metadata": {},
          "execution_count": 3
        }
      ]
    },
    {
      "cell_type": "code",
      "source": [
        "# here in above my_function parameter x,y is positional argument and z is keyword argument"
      ],
      "metadata": {
        "id": "OAIXCjtkAhNq"
      },
      "execution_count": 4,
      "outputs": []
    },
    {
      "cell_type": "markdown",
      "source": [
        "# Namespaces, Scope, and Local Functions"
      ],
      "metadata": {
        "id": "v6pPHcAeBFVh"
      }
    },
    {
      "cell_type": "code",
      "source": [
        "# Functions can access variables in two different scopes: global and local."
      ],
      "metadata": {
        "id": "Tj4fcP6dA44Z"
      },
      "execution_count": 5,
      "outputs": []
    },
    {
      "cell_type": "code",
      "source": [
        "def bind_a_vairable():\n",
        "  a = [] # variable a is define under local namespace of a function, hence it will be destoryed after function execution\n",
        "  for i in range(1,6):\n",
        "    a.append(i)\n",
        "  print(a)"
      ],
      "metadata": {
        "id": "rybKU9-CBgMA"
      },
      "execution_count": 10,
      "outputs": []
    },
    {
      "cell_type": "code",
      "source": [
        "b = None\n",
        "def bind_b_Variable():\n",
        "  global b # varibale b is define globally hence it will be accessable in global namespace\n",
        "  b = [x for x in range(1,6)]\n",
        "  print(b)\n"
      ],
      "metadata": {
        "id": "sAN_RtwoBpV1"
      },
      "execution_count": 13,
      "outputs": []
    },
    {
      "cell_type": "code",
      "source": [
        "bind_b_Variable()"
      ],
      "metadata": {
        "colab": {
          "base_uri": "https://localhost:8080/"
        },
        "id": "X7BFhSkOBswk",
        "outputId": "226081af-a543-4c1f-def3-393df0c09f98"
      },
      "execution_count": 16,
      "outputs": [
        {
          "output_type": "stream",
          "name": "stdout",
          "text": [
            "[1, 2, 3, 4, 5]\n"
          ]
        }
      ]
    },
    {
      "cell_type": "code",
      "source": [
        "b"
      ],
      "metadata": {
        "colab": {
          "base_uri": "https://localhost:8080/"
        },
        "id": "IMx_ETNvCXji",
        "outputId": "862b714b-07ce-4b1e-d9a9-cc83d5ab0218"
      },
      "execution_count": 17,
      "outputs": [
        {
          "output_type": "execute_result",
          "data": {
            "text/plain": [
              "[1, 2, 3, 4, 5]"
            ]
          },
          "metadata": {},
          "execution_count": 17
        }
      ]
    },
    {
      "cell_type": "markdown",
      "source": [
        "# Returning Multiple Values"
      ],
      "metadata": {
        "id": "JXnqV-ZpDE3q"
      }
    },
    {
      "cell_type": "code",
      "source": [
        "def f():\n",
        "  a = 10\n",
        "  b = 20\n",
        "  c = 30\n",
        "  return a,b,c\n",
        "\n",
        "values = f()\n",
        "\n",
        "print(values)"
      ],
      "metadata": {
        "colab": {
          "base_uri": "https://localhost:8080/"
        },
        "id": "nyJxKinQCecl",
        "outputId": "8ffe299a-c2b3-4f0d-ae42-1cb684cf31ad"
      },
      "execution_count": 18,
      "outputs": [
        {
          "output_type": "stream",
          "name": "stdout",
          "text": [
            "(10, 20, 30)\n"
          ]
        }
      ]
    },
    {
      "cell_type": "code",
      "source": [
        "type(values)"
      ],
      "metadata": {
        "colab": {
          "base_uri": "https://localhost:8080/"
        },
        "id": "_9X94pdlDo0v",
        "outputId": "cc217b6e-a91a-47dd-b233-28db1011e11e"
      },
      "execution_count": 19,
      "outputs": [
        {
          "output_type": "execute_result",
          "data": {
            "text/plain": [
              "tuple"
            ]
          },
          "metadata": {},
          "execution_count": 19
        }
      ]
    },
    {
      "cell_type": "code",
      "source": [
        "a,b,c = f()\n",
        "\n",
        "print(f\"a = {a}, b = {b}, c = {c}\")"
      ],
      "metadata": {
        "colab": {
          "base_uri": "https://localhost:8080/"
        },
        "id": "CaTieQC9DseF",
        "outputId": "3e05ac14-92e4-4817-d21c-3079cbb96235"
      },
      "execution_count": 20,
      "outputs": [
        {
          "output_type": "stream",
          "name": "stdout",
          "text": [
            "a = 10, b = 20, c = 30\n"
          ]
        }
      ]
    },
    {
      "cell_type": "markdown",
      "source": [
        "# Data Cleaning"
      ],
      "metadata": {
        "id": "oki9XPiLEWFf"
      }
    },
    {
      "cell_type": "code",
      "source": [
        "states = [' Alabama ', 'Georgia!', 'Georgia', 'georgia', 'FlOrIda','south carolina##', 'West virginia?']\n",
        "\n",
        "states"
      ],
      "metadata": {
        "colab": {
          "base_uri": "https://localhost:8080/"
        },
        "id": "42QAEkUID2MB",
        "outputId": "57a17bcb-522c-4128-bff2-5e23cdcdd5bd"
      },
      "execution_count": 21,
      "outputs": [
        {
          "output_type": "execute_result",
          "data": {
            "text/plain": [
              "[' Alabama ',\n",
              " 'Georgia!',\n",
              " 'Georgia',\n",
              " 'georgia',\n",
              " 'FlOrIda',\n",
              " 'south carolina##',\n",
              " 'West virginia?']"
            ]
          },
          "metadata": {},
          "execution_count": 21
        }
      ]
    },
    {
      "cell_type": "code",
      "source": [
        "characters_to_ignore = [' ', ',', '?', '!','#','##']"
      ],
      "metadata": {
        "id": "EHHg01QhElaj"
      },
      "execution_count": 31,
      "outputs": []
    },
    {
      "cell_type": "code",
      "source": [
        "cleaned_states = [''.join([char for char in state if char not in characters_to_ignore]).lower() for state in states]"
      ],
      "metadata": {
        "id": "cAkV2m7fE89C"
      },
      "execution_count": 36,
      "outputs": []
    },
    {
      "cell_type": "code",
      "source": [
        "cleaned_states"
      ],
      "metadata": {
        "colab": {
          "base_uri": "https://localhost:8080/"
        },
        "id": "elUB8axtE_SW",
        "outputId": "37fede6f-7271-47a4-874e-0cc690ca7a82"
      },
      "execution_count": 37,
      "outputs": [
        {
          "output_type": "execute_result",
          "data": {
            "text/plain": [
              "['alabama',\n",
              " 'georgia',\n",
              " 'georgia',\n",
              " 'georgia',\n",
              " 'florida',\n",
              " 'southcarolina',\n",
              " 'westvirginia']"
            ]
          },
          "metadata": {},
          "execution_count": 37
        }
      ]
    },
    {
      "cell_type": "markdown",
      "source": [
        "# Data Cleaning - Practice"
      ],
      "metadata": {
        "id": "ZthWOSS6ImEY"
      }
    },
    {
      "cell_type": "code",
      "source": [
        "# Removing Punctuation and Lowercasing Text\n",
        "text = \"This! is, an example? of# text with$ punctuation!\"\n"
      ],
      "metadata": {
        "id": "e8xbS63sG5Wn"
      },
      "execution_count": 38,
      "outputs": []
    },
    {
      "cell_type": "code",
      "source": [
        "remove_list = ['!']\n",
        "punctuation_removal = [''.join([char for char in text if char not in remove_list]).lower()]"
      ],
      "metadata": {
        "id": "1XNaOD5JI4JY"
      },
      "execution_count": 40,
      "outputs": []
    },
    {
      "cell_type": "code",
      "source": [
        "punctuation_removal"
      ],
      "metadata": {
        "colab": {
          "base_uri": "https://localhost:8080/"
        },
        "id": "qk-Z1jOkJIRV",
        "outputId": "c9870e08-9ded-4da5-b4ef-9ec6406017e3"
      },
      "execution_count": 41,
      "outputs": [
        {
          "output_type": "execute_result",
          "data": {
            "text/plain": [
              "['this is, an example? of# text with$ punctuation']"
            ]
          },
          "metadata": {},
          "execution_count": 41
        }
      ]
    },
    {
      "cell_type": "code",
      "source": [
        "cities = ['MumBai','Bombay','????De#??lhi','chennai!!','bOmBa!!!!y###']"
      ],
      "metadata": {
        "id": "8vjGcSk_JRPA"
      },
      "execution_count": 66,
      "outputs": []
    },
    {
      "cell_type": "code",
      "source": [
        "unwanted_char = ['?','#','!']"
      ],
      "metadata": {
        "id": "K8Af4XKOJmjw"
      },
      "execution_count": 67,
      "outputs": []
    },
    {
      "cell_type": "code",
      "source": [
        "cleaned_data = [''.join(char for char in city if char not in unwanted_char).lower() for city in cities]"
      ],
      "metadata": {
        "id": "ZlDrJtv0J8pD"
      },
      "execution_count": 76,
      "outputs": []
    },
    {
      "cell_type": "code",
      "source": [
        "cleaned_data"
      ],
      "metadata": {
        "colab": {
          "base_uri": "https://localhost:8080/"
        },
        "id": "PXUzIoC3KHGA",
        "outputId": "86b0b323-45d9-4a1e-98ec-a65580a33868"
      },
      "execution_count": 77,
      "outputs": [
        {
          "output_type": "execute_result",
          "data": {
            "text/plain": [
              "['mumbai', 'bombay', 'delhi', 'chennai', 'bombay']"
            ]
          },
          "metadata": {},
          "execution_count": 77
        }
      ]
    },
    {
      "cell_type": "code",
      "source": [
        "['mumbai' if x == 'bombay' else x for x in cleaned_data]"
      ],
      "metadata": {
        "colab": {
          "base_uri": "https://localhost:8080/"
        },
        "id": "Z9sz2k7FNLBN",
        "outputId": "2b22b801-5eb7-4835-c137-574b63350774"
      },
      "execution_count": 79,
      "outputs": [
        {
          "output_type": "execute_result",
          "data": {
            "text/plain": [
              "['mumbai', 'mumbai', 'delhi', 'chennai', 'mumbai']"
            ]
          },
          "metadata": {},
          "execution_count": 79
        }
      ]
    },
    {
      "cell_type": "code",
      "source": [
        "def cleaning_function(cities):\n",
        "  unwanted_char = ['?','#','!']\n",
        "  return [''.join(char for char in city if char not in unwanted_char).lower() for city in cities]"
      ],
      "metadata": {
        "id": "do0fi4k8NYIP"
      },
      "execution_count": 80,
      "outputs": []
    },
    {
      "cell_type": "code",
      "source": [
        "cleaned_data = cleaning_function(cities)"
      ],
      "metadata": {
        "id": "gD70e0H3OLY7"
      },
      "execution_count": 81,
      "outputs": []
    },
    {
      "cell_type": "code",
      "source": [
        "print(cleaned_data)"
      ],
      "metadata": {
        "colab": {
          "base_uri": "https://localhost:8080/"
        },
        "id": "ZiQtUqaqORk1",
        "outputId": "194a900c-d356-4efe-c80b-c093a8e47b04"
      },
      "execution_count": 84,
      "outputs": [
        {
          "output_type": "stream",
          "name": "stdout",
          "text": [
            "['mumbai', 'bombay', 'delhi', 'chennai', 'bombay']\n"
          ]
        }
      ]
    },
    {
      "cell_type": "code",
      "source": [
        "def converter_func_bom_to_mum(cities):\n",
        "  return ['mumbai' if x == 'bombay' else x for x in cities]"
      ],
      "metadata": {
        "id": "MJqVo1ngOTuh"
      },
      "execution_count": 87,
      "outputs": []
    },
    {
      "cell_type": "code",
      "source": [
        "final_cleaned_Data = converter_func_bom_to_mum(cleaned_data)"
      ],
      "metadata": {
        "id": "Rwg_UOL-OxCd"
      },
      "execution_count": 88,
      "outputs": []
    },
    {
      "cell_type": "code",
      "source": [
        "final_cleaned_Data"
      ],
      "metadata": {
        "colab": {
          "base_uri": "https://localhost:8080/"
        },
        "id": "IrHlGq2vO8LS",
        "outputId": "75358170-c307-4b56-ed1a-4dcb76dfbcd5"
      },
      "execution_count": 89,
      "outputs": [
        {
          "output_type": "execute_result",
          "data": {
            "text/plain": [
              "['mumbai', 'mumbai', 'delhi', 'chennai', 'mumbai']"
            ]
          },
          "metadata": {},
          "execution_count": 89
        }
      ]
    },
    {
      "cell_type": "markdown",
      "source": [
        "# Remove Duplicates"
      ],
      "metadata": {
        "id": "T2cSzn3dPOjI"
      }
    },
    {
      "cell_type": "code",
      "source": [
        "states = ['maharashtra','bihar','rajesthan','up','bengal','up','punjab','maharashtra','bihar']"
      ],
      "metadata": {
        "id": "lCi0k1lWO_52"
      },
      "execution_count": 95,
      "outputs": []
    },
    {
      "cell_type": "code",
      "source": [
        "remove_duplicates = list(set(states))"
      ],
      "metadata": {
        "id": "m9UT6EvmPflg"
      },
      "execution_count": 96,
      "outputs": []
    },
    {
      "cell_type": "code",
      "source": [
        "remove_duplicates"
      ],
      "metadata": {
        "colab": {
          "base_uri": "https://localhost:8080/"
        },
        "id": "pu4OsI8YPm-u",
        "outputId": "f77a09c7-41fa-4c19-9c21-d3353d388cda"
      },
      "execution_count": 97,
      "outputs": [
        {
          "output_type": "execute_result",
          "data": {
            "text/plain": [
              "['rajesthan', 'bengal', 'maharashtra', 'punjab', 'up', 'bihar']"
            ]
          },
          "metadata": {},
          "execution_count": 97
        }
      ]
    },
    {
      "cell_type": "markdown",
      "source": [
        "# Removing Leading and Trailing Whitespaces from Strings in a List\n"
      ],
      "metadata": {
        "id": "G71YnyFEP6Zd"
      }
    },
    {
      "cell_type": "code",
      "source": [
        "data = ['   Apple  ', '  Banana ', 'Orange   ', '   Mango   ']\n"
      ],
      "metadata": {
        "id": "n-EL9Ua0PoJ8"
      },
      "execution_count": 98,
      "outputs": []
    },
    {
      "cell_type": "code",
      "source": [
        "# method 1\n",
        "white_space=[' ']\n",
        "[''.join([x for x in d if x not in white_space])for d in data]"
      ],
      "metadata": {
        "colab": {
          "base_uri": "https://localhost:8080/"
        },
        "id": "sMV27T2xP_oB",
        "outputId": "fb300095-a06c-45b6-f62a-b5a5459588f5"
      },
      "execution_count": 101,
      "outputs": [
        {
          "output_type": "execute_result",
          "data": {
            "text/plain": [
              "['Apple', 'Banana', 'Orange', 'Mango']"
            ]
          },
          "metadata": {},
          "execution_count": 101
        }
      ]
    },
    {
      "cell_type": "code",
      "source": [
        "# method 2\n",
        "[item.strip() for item in data]"
      ],
      "metadata": {
        "colab": {
          "base_uri": "https://localhost:8080/"
        },
        "id": "T5ANwKAmQAf1",
        "outputId": "916a7ef8-84d4-4024-8774-4a327704e557"
      },
      "execution_count": 102,
      "outputs": [
        {
          "output_type": "execute_result",
          "data": {
            "text/plain": [
              "['Apple', 'Banana', 'Orange', 'Mango']"
            ]
          },
          "metadata": {},
          "execution_count": 102
        }
      ]
    },
    {
      "cell_type": "code",
      "source": [
        "fruits = [' ####  Apple  ????', ' !--- Ba!nana ---!', 'Orange! ', '   Mango   ']\n",
        "\n",
        "[item.strip('#?!- ') for item in fruits]"
      ],
      "metadata": {
        "colab": {
          "base_uri": "https://localhost:8080/"
        },
        "id": "YP21LGwjQouE",
        "outputId": "937da5cd-587a-4aa7-e2a3-f7fe55e7a35e"
      },
      "execution_count": 105,
      "outputs": [
        {
          "output_type": "execute_result",
          "data": {
            "text/plain": [
              "['Apple', 'Ba!nana', 'Orange', 'Mango']"
            ]
          },
          "metadata": {},
          "execution_count": 105
        }
      ]
    },
    {
      "cell_type": "code",
      "source": [
        "banned_lst = [' ','!','#','?','-' ]\n",
        "[''.join([x for x in f if x not in banned_lst]) for f in fruits]"
      ],
      "metadata": {
        "colab": {
          "base_uri": "https://localhost:8080/"
        },
        "id": "k0Br3b22ROs6",
        "outputId": "32407ffc-8e7e-44b4-9279-8341d702230d"
      },
      "execution_count": 111,
      "outputs": [
        {
          "output_type": "execute_result",
          "data": {
            "text/plain": [
              "['Apple', 'Banana', 'Orange', 'Mango']"
            ]
          },
          "metadata": {},
          "execution_count": 111
        }
      ]
    },
    {
      "cell_type": "code",
      "source": [],
      "metadata": {
        "id": "inF053g2RnVm"
      },
      "execution_count": null,
      "outputs": []
    }
  ]
}
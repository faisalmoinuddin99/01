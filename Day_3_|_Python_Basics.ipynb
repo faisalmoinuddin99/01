{
  "nbformat": 4,
  "nbformat_minor": 0,
  "metadata": {
    "colab": {
      "provenance": [],
      "authorship_tag": "ABX9TyMcKZ0nBYgvMhKKj50pKRx1",
      "include_colab_link": true
    },
    "kernelspec": {
      "name": "python3",
      "display_name": "Python 3"
    },
    "language_info": {
      "name": "python"
    }
  },
  "cells": [
    {
      "cell_type": "markdown",
      "metadata": {
        "id": "view-in-github",
        "colab_type": "text"
      },
      "source": [
        "<a href=\"https://colab.research.google.com/github/faisalmoinuddin99/01/blob/master/Day_3_%7C_Python_Basics.ipynb\" target=\"_parent\"><img src=\"https://colab.research.google.com/assets/colab-badge.svg\" alt=\"Open In Colab\"/></a>"
      ]
    },
    {
      "cell_type": "code",
      "execution_count": 2,
      "metadata": {
        "id": "SnHvPlLruGF2"
      },
      "outputs": [],
      "source": [
        "# Duck Typing\n",
        "def isiterable(obj):\n",
        "  try:\n",
        "    iter(obj) # iterator protocol usint __iter__ \"magic method\"\n",
        "    return True\n",
        "  except TypeError: # not iterable\n",
        "    return False"
      ]
    },
    {
      "cell_type": "code",
      "source": [
        "lst = [1,2,3,4,5]\n",
        "isiterable(lst)"
      ],
      "metadata": {
        "colab": {
          "base_uri": "https://localhost:8080/"
        },
        "id": "MxYPDNGSuVY9",
        "outputId": "7b3b95d1-e65d-4bac-a464-ad848af0b60f"
      },
      "execution_count": 3,
      "outputs": [
        {
          "output_type": "execute_result",
          "data": {
            "text/plain": [
              "True"
            ]
          },
          "metadata": {},
          "execution_count": 3
        }
      ]
    },
    {
      "cell_type": "code",
      "source": [
        "k = 5\n",
        "isiterable(k)"
      ],
      "metadata": {
        "colab": {
          "base_uri": "https://localhost:8080/"
        },
        "id": "mSpB6FxQuvdl",
        "outputId": "e13dcb20-1270-4cc9-dc04-967ad2d0043e"
      },
      "execution_count": 4,
      "outputs": [
        {
          "output_type": "execute_result",
          "data": {
            "text/plain": [
              "False"
            ]
          },
          "metadata": {},
          "execution_count": 4
        }
      ]
    },
    {
      "cell_type": "code",
      "source": [
        "name = \"I am string variable\"\n",
        "isiterable(name)"
      ],
      "metadata": {
        "colab": {
          "base_uri": "https://localhost:8080/"
        },
        "id": "Qsqd_SpXuzmj",
        "outputId": "a31c1777-103d-4026-83d3-27006e4b7d66"
      },
      "execution_count": 5,
      "outputs": [
        {
          "output_type": "execute_result",
          "data": {
            "text/plain": [
              "True"
            ]
          },
          "metadata": {},
          "execution_count": 5
        }
      ]
    },
    {
      "cell_type": "code",
      "source": [
        "a = [1,2,3]\n",
        "b = a\n",
        "c = list(a)\n",
        "print(c)"
      ],
      "metadata": {
        "colab": {
          "base_uri": "https://localhost:8080/"
        },
        "id": "WhnBPErbvDcd",
        "outputId": "d36dc7fe-f918-4677-f069-9546c4abf63c"
      },
      "execution_count": 6,
      "outputs": [
        {
          "output_type": "stream",
          "name": "stdout",
          "text": [
            "[1, 2, 3]\n"
          ]
        }
      ]
    },
    {
      "cell_type": "code",
      "source": [
        "a is c"
      ],
      "metadata": {
        "colab": {
          "base_uri": "https://localhost:8080/"
        },
        "id": "spHZI0S0v4qs",
        "outputId": "7dc1ad91-9292-42dc-d268-a949fdb5958d"
      },
      "execution_count": 7,
      "outputs": [
        {
          "output_type": "execute_result",
          "data": {
            "text/plain": [
              "False"
            ]
          },
          "metadata": {},
          "execution_count": 7
        }
      ]
    },
    {
      "cell_type": "code",
      "source": [
        "c is a"
      ],
      "metadata": {
        "colab": {
          "base_uri": "https://localhost:8080/"
        },
        "id": "3JblSOK7v7Qj",
        "outputId": "a1f76ab3-a9e6-4c25-acd6-e935a8850ed0"
      },
      "execution_count": 8,
      "outputs": [
        {
          "output_type": "execute_result",
          "data": {
            "text/plain": [
              "False"
            ]
          },
          "metadata": {},
          "execution_count": 8
        }
      ]
    },
    {
      "cell_type": "code",
      "source": [
        "a is b"
      ],
      "metadata": {
        "colab": {
          "base_uri": "https://localhost:8080/"
        },
        "id": "JZi7wDJsv8c0",
        "outputId": "a63db4f2-73f7-49d8-a214-29f80c9850ed"
      },
      "execution_count": 9,
      "outputs": [
        {
          "output_type": "execute_result",
          "data": {
            "text/plain": [
              "True"
            ]
          },
          "metadata": {},
          "execution_count": 9
        }
      ]
    },
    {
      "cell_type": "code",
      "source": [
        "b is a"
      ],
      "metadata": {
        "colab": {
          "base_uri": "https://localhost:8080/"
        },
        "id": "EXuwfwKpv-Df",
        "outputId": "f6a289a1-3bad-4797-f9a7-b7835d88de6d"
      },
      "execution_count": 10,
      "outputs": [
        {
          "output_type": "execute_result",
          "data": {
            "text/plain": [
              "True"
            ]
          },
          "metadata": {},
          "execution_count": 10
        }
      ]
    },
    {
      "cell_type": "code",
      "source": [
        "c is b"
      ],
      "metadata": {
        "colab": {
          "base_uri": "https://localhost:8080/"
        },
        "id": "YVh0FZPywDCK",
        "outputId": "11c165b8-523d-43e6-f56d-e44c89e139b6"
      },
      "execution_count": 11,
      "outputs": [
        {
          "output_type": "execute_result",
          "data": {
            "text/plain": [
              "False"
            ]
          },
          "metadata": {},
          "execution_count": 11
        }
      ]
    },
    {
      "cell_type": "code",
      "source": [
        "b is c"
      ],
      "metadata": {
        "colab": {
          "base_uri": "https://localhost:8080/"
        },
        "id": "2u5NiPRjwE4W",
        "outputId": "07c7b1d1-5703-4f63-cbbb-df52f90885d1"
      },
      "execution_count": 12,
      "outputs": [
        {
          "output_type": "execute_result",
          "data": {
            "text/plain": [
              "False"
            ]
          },
          "metadata": {},
          "execution_count": 12
        }
      ]
    },
    {
      "cell_type": "code",
      "source": [
        "a == c"
      ],
      "metadata": {
        "colab": {
          "base_uri": "https://localhost:8080/"
        },
        "id": "hyoUtSmBwF5-",
        "outputId": "71ed4ce6-50ee-4d16-fcb6-1f1ec6900e61"
      },
      "execution_count": 13,
      "outputs": [
        {
          "output_type": "execute_result",
          "data": {
            "text/plain": [
              "True"
            ]
          },
          "metadata": {},
          "execution_count": 13
        }
      ]
    },
    {
      "cell_type": "code",
      "source": [
        "a is c"
      ],
      "metadata": {
        "colab": {
          "base_uri": "https://localhost:8080/"
        },
        "id": "SPHaxPbmwNwz",
        "outputId": "8aab99a6-b66c-4770-f8d3-235a052f3da6"
      },
      "execution_count": 14,
      "outputs": [
        {
          "output_type": "execute_result",
          "data": {
            "text/plain": [
              "False"
            ]
          },
          "metadata": {},
          "execution_count": 14
        }
      ]
    },
    {
      "cell_type": "markdown",
      "source": [
        "### Mutable and immutable objects"
      ],
      "metadata": {
        "id": "dW3-gNsxwuZt"
      }
    },
    {
      "cell_type": "code",
      "source": [
        "# Mutable\n",
        "\n",
        "\"\"\"\n",
        "1. list\n",
        "2. dicts\n",
        "3. NumPy arrays\n",
        "\"\"\"\n",
        "\n",
        "# Immutable\n",
        "\n",
        "\"\"\"\n",
        "1. string\n",
        "2. tuple\n",
        "\"\"\""
      ],
      "metadata": {
        "colab": {
          "base_uri": "https://localhost:8080/",
          "height": 35
        },
        "id": "K4khivwKwzba",
        "outputId": "984bdf39-744d-4020-be89-8f12796b7eb3"
      },
      "execution_count": 15,
      "outputs": [
        {
          "output_type": "execute_result",
          "data": {
            "text/plain": [
              "'\\n1. string\\n2. tuple\\n'"
            ],
            "application/vnd.google.colaboratory.intrinsic+json": {
              "type": "string"
            }
          },
          "metadata": {},
          "execution_count": 15
        }
      ]
    },
    {
      "cell_type": "code",
      "source": [
        "name"
      ],
      "metadata": {
        "colab": {
          "base_uri": "https://localhost:8080/",
          "height": 35
        },
        "id": "DuZuVU9rx4LL",
        "outputId": "4056b029-2256-4d0e-a1d2-7ba4def16daf"
      },
      "execution_count": 16,
      "outputs": [
        {
          "output_type": "execute_result",
          "data": {
            "text/plain": [
              "'I am string variable'"
            ],
            "application/vnd.google.colaboratory.intrinsic+json": {
              "type": "string"
            }
          },
          "metadata": {},
          "execution_count": 16
        }
      ]
    },
    {
      "cell_type": "code",
      "source": [
        "name[5]"
      ],
      "metadata": {
        "colab": {
          "base_uri": "https://localhost:8080/",
          "height": 35
        },
        "id": "0dAKDTGpyReO",
        "outputId": "e6f020e7-53e9-44c4-f01d-8c40af7475e5"
      },
      "execution_count": 18,
      "outputs": [
        {
          "output_type": "execute_result",
          "data": {
            "text/plain": [
              "'s'"
            ],
            "application/vnd.google.colaboratory.intrinsic+json": {
              "type": "string"
            }
          },
          "metadata": {},
          "execution_count": 18
        }
      ]
    },
    {
      "cell_type": "code",
      "source": [
        "list(name)"
      ],
      "metadata": {
        "colab": {
          "base_uri": "https://localhost:8080/"
        },
        "id": "BGAwZUMvyS09",
        "outputId": "44897c1f-0bad-4ca8-ac7a-3accfe1f7389"
      },
      "execution_count": 19,
      "outputs": [
        {
          "output_type": "execute_result",
          "data": {
            "text/plain": [
              "['I',\n",
              " ' ',\n",
              " 'a',\n",
              " 'm',\n",
              " ' ',\n",
              " 's',\n",
              " 't',\n",
              " 'r',\n",
              " 'i',\n",
              " 'n',\n",
              " 'g',\n",
              " ' ',\n",
              " 'v',\n",
              " 'a',\n",
              " 'r',\n",
              " 'i',\n",
              " 'a',\n",
              " 'b',\n",
              " 'l',\n",
              " 'e']"
            ]
          },
          "metadata": {},
          "execution_count": 19
        }
      ]
    },
    {
      "cell_type": "code",
      "source": [
        "name[:3]"
      ],
      "metadata": {
        "colab": {
          "base_uri": "https://localhost:8080/",
          "height": 35
        },
        "id": "cSSQlcWVydL8",
        "outputId": "02476be3-24fa-4dc3-e763-0385c3528a46"
      },
      "execution_count": 20,
      "outputs": [
        {
          "output_type": "execute_result",
          "data": {
            "text/plain": [
              "'I a'"
            ],
            "application/vnd.google.colaboratory.intrinsic+json": {
              "type": "string"
            }
          },
          "metadata": {},
          "execution_count": 20
        }
      ]
    },
    {
      "cell_type": "code",
      "source": [
        "name[::-1]"
      ],
      "metadata": {
        "colab": {
          "base_uri": "https://localhost:8080/",
          "height": 35
        },
        "id": "OVvBN0jXyhJ4",
        "outputId": "5f29b9d8-8ac2-4cb1-a430-dde19e35c54f"
      },
      "execution_count": 21,
      "outputs": [
        {
          "output_type": "execute_result",
          "data": {
            "text/plain": [
              "'elbairav gnirts ma I'"
            ],
            "application/vnd.google.colaboratory.intrinsic+json": {
              "type": "string"
            }
          },
          "metadata": {},
          "execution_count": 21
        }
      ]
    },
    {
      "cell_type": "code",
      "source": [
        "dollar = 4.463\n",
        "print(f\"{dollar:.1f}\")"
      ],
      "metadata": {
        "colab": {
          "base_uri": "https://localhost:8080/"
        },
        "id": "GhbwAv0pyjI8",
        "outputId": "3ae2366e-be6d-44e5-aa17-f7d20db4d8f1"
      },
      "execution_count": 25,
      "outputs": [
        {
          "output_type": "stream",
          "name": "stdout",
          "text": [
            "4.5\n"
          ]
        }
      ]
    },
    {
      "cell_type": "code",
      "source": [
        "sequence = [1, 2, None, 4, 5, None, 7, 8, None, 10]\n",
        "for x in sequence:\n",
        "  if x is None:\n",
        "    continue\n",
        "  print(x, end=\" \")\n"
      ],
      "metadata": {
        "colab": {
          "base_uri": "https://localhost:8080/"
        },
        "id": "6ssfKecJzLnq",
        "outputId": "97a574c3-8210-4793-f511-9990005a07d2"
      },
      "execution_count": 27,
      "outputs": [
        {
          "output_type": "stream",
          "name": "stdout",
          "text": [
            "1 2 4 5 7 8 10 "
          ]
        }
      ]
    },
    {
      "cell_type": "code",
      "source": [
        "range(4)"
      ],
      "metadata": {
        "colab": {
          "base_uri": "https://localhost:8080/"
        },
        "id": "5vz94ZCJ0rZ1",
        "outputId": "cf6be4bd-70f6-4c47-a1b1-ff7e9c9ecc9c"
      },
      "execution_count": 28,
      "outputs": [
        {
          "output_type": "execute_result",
          "data": {
            "text/plain": [
              "range(0, 4)"
            ]
          },
          "metadata": {},
          "execution_count": 28
        }
      ]
    },
    {
      "cell_type": "code",
      "source": [
        "for i in range(4):\n",
        "  for j in range(4):\n",
        "    if j > i:\n",
        "      break\n",
        "    print((i,j), end=\" \")"
      ],
      "metadata": {
        "colab": {
          "base_uri": "https://localhost:8080/"
        },
        "id": "hNSxs4SH1HTO",
        "outputId": "7a7d51f1-477f-4536-e350-2692dc52e5bf"
      },
      "execution_count": 31,
      "outputs": [
        {
          "output_type": "stream",
          "name": "stdout",
          "text": [
            "(0, 0) (1, 0) (1, 1) (2, 0) (2, 1) (2, 2) (3, 0) (3, 1) (3, 2) (3, 3) "
          ]
        }
      ]
    },
    {
      "cell_type": "code",
      "source": [
        "list(range(0,20,2))"
      ],
      "metadata": {
        "colab": {
          "base_uri": "https://localhost:8080/"
        },
        "id": "K9k1ro-E1MVR",
        "outputId": "247f6434-c753-421a-9716-0cce5f2666c1"
      },
      "execution_count": 32,
      "outputs": [
        {
          "output_type": "execute_result",
          "data": {
            "text/plain": [
              "[0, 2, 4, 6, 8, 10, 12, 14, 16, 18]"
            ]
          },
          "metadata": {},
          "execution_count": 32
        }
      ]
    },
    {
      "cell_type": "code",
      "source": [
        "seq = [20,50,23,45]\n",
        "for i in range(len(seq)):\n",
        "  val = seq[i]\n",
        "  print(val, end=\" \")"
      ],
      "metadata": {
        "colab": {
          "base_uri": "https://localhost:8080/"
        },
        "id": "qQZAjIDy2Bjp",
        "outputId": "75a55ba6-d5ca-4d64-c602-5d6b38ebe038"
      },
      "execution_count": 35,
      "outputs": [
        {
          "output_type": "stream",
          "name": "stdout",
          "text": [
            "20 50 23 45 "
          ]
        }
      ]
    },
    {
      "cell_type": "code",
      "source": [
        "# Ternary expressions\n",
        "\n",
        "'''\n",
        "val = (true-expression) if condition else (false-expression)\n",
        "'''\n",
        "\n",
        "x = 5\n",
        "val = 'Non-negative' if x > 0 else 'Negative'\n",
        "print(val)"
      ],
      "metadata": {
        "colab": {
          "base_uri": "https://localhost:8080/"
        },
        "id": "nSjIMV9H2gSo",
        "outputId": "cb552143-2190-4c2f-9a8b-51d64f9e040d"
      },
      "execution_count": 36,
      "outputs": [
        {
          "output_type": "stream",
          "name": "stdout",
          "text": [
            "Non-negative\n"
          ]
        }
      ]
    },
    {
      "cell_type": "markdown",
      "source": [
        "##### Tuple"
      ],
      "metadata": {
        "id": "4q3D_z8T33uE"
      }
    },
    {
      "cell_type": "code",
      "source": [
        "tup = (1,2,4)\n",
        "print(tup)"
      ],
      "metadata": {
        "colab": {
          "base_uri": "https://localhost:8080/"
        },
        "id": "yTAqW2vq37Cs",
        "outputId": "3ef92d81-f0e2-488e-c101-d184dfbb9a35"
      },
      "execution_count": 38,
      "outputs": [
        {
          "output_type": "stream",
          "name": "stdout",
          "text": [
            "(1, 2, 4)\n"
          ]
        }
      ]
    },
    {
      "cell_type": "code",
      "source": [
        "tup1 = (1,2,3), (4,5)\n",
        "print(tup1, end=\" \")"
      ],
      "metadata": {
        "colab": {
          "base_uri": "https://localhost:8080/"
        },
        "id": "xPYjsq1B39c2",
        "outputId": "5c591051-e8f3-44ae-f3d2-799c47e539f3"
      },
      "execution_count": 39,
      "outputs": [
        {
          "output_type": "stream",
          "name": "stdout",
          "text": [
            "((1, 2, 3), (4, 5)) "
          ]
        }
      ]
    },
    {
      "cell_type": "code",
      "source": [
        "print(len(tup1))"
      ],
      "metadata": {
        "colab": {
          "base_uri": "https://localhost:8080/"
        },
        "id": "Xl2lkCDv4SvE",
        "outputId": "bd34dcf8-104d-443d-cadf-0cd0b239fc86"
      },
      "execution_count": 40,
      "outputs": [
        {
          "output_type": "stream",
          "name": "stdout",
          "text": [
            "2\n"
          ]
        }
      ]
    },
    {
      "cell_type": "code",
      "source": [
        "tup1[0]"
      ],
      "metadata": {
        "colab": {
          "base_uri": "https://localhost:8080/"
        },
        "id": "S1DQOGmC4XWl",
        "outputId": "254b9230-00ec-444e-fc31-4bb53dd435e7"
      },
      "execution_count": 43,
      "outputs": [
        {
          "output_type": "execute_result",
          "data": {
            "text/plain": [
              "(1, 2, 3)"
            ]
          },
          "metadata": {},
          "execution_count": 43
        }
      ]
    },
    {
      "cell_type": "code",
      "source": [
        "for i in range(len(tup1)):\n",
        "  for j in tup1[i]:\n",
        "    print(j, end = \" \")"
      ],
      "metadata": {
        "colab": {
          "base_uri": "https://localhost:8080/"
        },
        "id": "x1vAQoT94t76",
        "outputId": "f056420e-5144-4565-cb18-262e5e181b5f"
      },
      "execution_count": 44,
      "outputs": [
        {
          "output_type": "stream",
          "name": "stdout",
          "text": [
            "1 2 3 4 5 "
          ]
        }
      ]
    },
    {
      "cell_type": "markdown",
      "source": [
        "##### Unpacking tuples"
      ],
      "metadata": {
        "id": "hOE3D-pd6tNC"
      }
    },
    {
      "cell_type": "code",
      "source": [
        "tup2 = (1,2,4)\n",
        "a,b,c = tup2\n",
        "print(f\"a = {a} b = {b} c = {c}\")"
      ],
      "metadata": {
        "colab": {
          "base_uri": "https://localhost:8080/"
        },
        "id": "5y0Y1My56RKO",
        "outputId": "7e755465-4cbb-4488-d93f-e04e23e1f40d"
      },
      "execution_count": 48,
      "outputs": [
        {
          "output_type": "stream",
          "name": "stdout",
          "text": [
            "a = 1 b = 2 c = 4\n"
          ]
        }
      ]
    },
    {
      "cell_type": "code",
      "source": [
        "tup3 = (1,3,5,(6,7))\n",
        "a,b,c,(e,d) = tup3\n",
        "print(f\"a={a} b={b} c={c} e={e} d={d}\")"
      ],
      "metadata": {
        "colab": {
          "base_uri": "https://localhost:8080/"
        },
        "id": "sNLxz7NR6592",
        "outputId": "eb918d94-0664-4525-a1c6-5754c3695088"
      },
      "execution_count": 49,
      "outputs": [
        {
          "output_type": "stream",
          "name": "stdout",
          "text": [
            "a=1 b=3 c=5 e=6 d=7\n"
          ]
        }
      ]
    },
    {
      "cell_type": "code",
      "source": [
        "seq1=[(1,2,3),(4,5,6),(7,8,9)]\n",
        "\n",
        "for a,b,c in seq1:\n",
        "  print(f\"a={a} b={b} c={c}\")"
      ],
      "metadata": {
        "colab": {
          "base_uri": "https://localhost:8080/"
        },
        "id": "ZfRRi4Fv7L9o",
        "outputId": "6e252459-0937-45c2-cb3a-a0b53caaab8f"
      },
      "execution_count": 51,
      "outputs": [
        {
          "output_type": "stream",
          "name": "stdout",
          "text": [
            "a=1 b=2 c=3\n",
            "a=4 b=5 c=6\n",
            "a=7 b=8 c=9\n"
          ]
        }
      ]
    },
    {
      "cell_type": "code",
      "source": [
        "seq2=([1,2,3],[4,5,6],[7,8,9])\n",
        "for a,b,c in seq2:\n",
        "  print(f\"a={a} b={b} c={c}\")"
      ],
      "metadata": {
        "colab": {
          "base_uri": "https://localhost:8080/"
        },
        "id": "NmaKLuZq7tGv",
        "outputId": "859fcdf3-de66-4c16-9039-585a775094bf"
      },
      "execution_count": 52,
      "outputs": [
        {
          "output_type": "stream",
          "name": "stdout",
          "text": [
            "a=1 b=2 c=3\n",
            "a=4 b=5 c=6\n",
            "a=7 b=8 c=9\n"
          ]
        }
      ]
    },
    {
      "cell_type": "code",
      "source": [
        "values = 1,2,3,4,5\n",
        "a,b,*rest = values\n",
        "print(f\"a={a} b={b} rest={rest}\")"
      ],
      "metadata": {
        "colab": {
          "base_uri": "https://localhost:8080/"
        },
        "id": "5gtnTjBM8E_f",
        "outputId": "4cda17e9-1880-402b-a9fc-9663f485605b"
      },
      "execution_count": 54,
      "outputs": [
        {
          "output_type": "stream",
          "name": "stdout",
          "text": [
            "a=1 b=2 rest=[3, 4, 5]\n"
          ]
        }
      ]
    },
    {
      "cell_type": "code",
      "source": [
        "tup4 = (1,2,3,2,4,2,4,5,3,2)\n",
        "tup4.count(2)"
      ],
      "metadata": {
        "colab": {
          "base_uri": "https://localhost:8080/"
        },
        "id": "19tmyTAB8amL",
        "outputId": "db7fba77-0738-492a-93ca-e60604f2afe3"
      },
      "execution_count": 55,
      "outputs": [
        {
          "output_type": "execute_result",
          "data": {
            "text/plain": [
              "4"
            ]
          },
          "metadata": {},
          "execution_count": 55
        }
      ]
    },
    {
      "cell_type": "code",
      "source": [
        "tup5 = (\"My name is faisal\")\n",
        "tup5.count(\"a\")"
      ],
      "metadata": {
        "colab": {
          "base_uri": "https://localhost:8080/"
        },
        "id": "XBideJux8-hZ",
        "outputId": "b970ab35-37ca-440d-940a-7706993d5cc1"
      },
      "execution_count": 56,
      "outputs": [
        {
          "output_type": "execute_result",
          "data": {
            "text/plain": [
              "3"
            ]
          },
          "metadata": {},
          "execution_count": 56
        }
      ]
    },
    {
      "cell_type": "code",
      "source": [
        "lst = [\"foo\",\"goo\",\"poo\",\"too\",\"goo\",\"noo\",\"loo\",\"goo\"]\n",
        "lst.remove(\"goo\")"
      ],
      "metadata": {
        "id": "SFwrVxpD9E1g"
      },
      "execution_count": 61,
      "outputs": []
    },
    {
      "cell_type": "code",
      "source": [
        "lst"
      ],
      "metadata": {
        "colab": {
          "base_uri": "https://localhost:8080/"
        },
        "id": "oUrzRY2c-aKi",
        "outputId": "44cba104-8137-4d45-f491-7db7a13e9afb"
      },
      "execution_count": 62,
      "outputs": [
        {
          "output_type": "execute_result",
          "data": {
            "text/plain": [
              "['foo', 'poo', 'too', 'goo', 'noo', 'loo', 'goo']"
            ]
          },
          "metadata": {},
          "execution_count": 62
        }
      ]
    },
    {
      "cell_type": "code",
      "source": [
        "lst.count(\"goo\")"
      ],
      "metadata": {
        "colab": {
          "base_uri": "https://localhost:8080/"
        },
        "id": "YzqySzFh-bJF",
        "outputId": "63b63926-edb4-4517-b40f-f418aab37b28"
      },
      "execution_count": 65,
      "outputs": [
        {
          "output_type": "execute_result",
          "data": {
            "text/plain": [
              "2"
            ]
          },
          "metadata": {},
          "execution_count": 65
        }
      ]
    },
    {
      "cell_type": "code",
      "source": [
        "'goo' not in lst"
      ],
      "metadata": {
        "colab": {
          "base_uri": "https://localhost:8080/"
        },
        "id": "_Wt7RB32-n9u",
        "outputId": "b7b68d5b-c336-431b-d5e9-4947f1617d6c"
      },
      "execution_count": 66,
      "outputs": [
        {
          "output_type": "execute_result",
          "data": {
            "text/plain": [
              "False"
            ]
          },
          "metadata": {},
          "execution_count": 66
        }
      ]
    },
    {
      "cell_type": "code",
      "source": [
        "'loo' in lst"
      ],
      "metadata": {
        "colab": {
          "base_uri": "https://localhost:8080/"
        },
        "id": "WWd2ZytT-y__",
        "outputId": "34404fa0-530d-41de-c000-e0931b548318"
      },
      "execution_count": 67,
      "outputs": [
        {
          "output_type": "execute_result",
          "data": {
            "text/plain": [
              "True"
            ]
          },
          "metadata": {},
          "execution_count": 67
        }
      ]
    },
    {
      "cell_type": "code",
      "source": [
        "lst1 = [\"foo\",\"noo\",\"too\"]\n",
        "lst2 = [1,2,3,(5,6)]\n",
        "list_of_lists = [lst1, lst2]\n",
        "everything = []\n",
        "for chunk in list_of_lists:\n",
        "  everything.extend(chunk)\n",
        "\n",
        "print(everything)"
      ],
      "metadata": {
        "colab": {
          "base_uri": "https://localhost:8080/"
        },
        "id": "2jkuzQU1-1IU",
        "outputId": "5968095c-b25e-4898-9e62-e48cf3581e51"
      },
      "execution_count": 68,
      "outputs": [
        {
          "output_type": "stream",
          "name": "stdout",
          "text": [
            "['foo', 'noo', 'too', 1, 2, 3, (5, 6)]\n"
          ]
        }
      ]
    },
    {
      "cell_type": "code",
      "source": [
        "my_arr = [7,5,8,2,4,1,3]\n",
        "my_arr.sort()"
      ],
      "metadata": {
        "id": "78E8VChL_qMF"
      },
      "execution_count": 69,
      "outputs": []
    },
    {
      "cell_type": "code",
      "source": [
        "print(my_arr)"
      ],
      "metadata": {
        "colab": {
          "base_uri": "https://localhost:8080/"
        },
        "id": "vyg4pJPPAlRk",
        "outputId": "325994bb-e649-46b3-88d7-3c8d62867ad5"
      },
      "execution_count": 70,
      "outputs": [
        {
          "output_type": "stream",
          "name": "stdout",
          "text": [
            "[1, 2, 3, 4, 5, 7, 8]\n"
          ]
        }
      ]
    }
  ]
}
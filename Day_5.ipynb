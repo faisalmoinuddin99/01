{
  "nbformat": 4,
  "nbformat_minor": 0,
  "metadata": {
    "colab": {
      "provenance": [],
      "authorship_tag": "ABX9TyNgCJmcHtb+QxK5YJz4Abn4",
      "include_colab_link": true
    },
    "kernelspec": {
      "name": "python3",
      "display_name": "Python 3"
    },
    "language_info": {
      "name": "python"
    }
  },
  "cells": [
    {
      "cell_type": "markdown",
      "metadata": {
        "id": "view-in-github",
        "colab_type": "text"
      },
      "source": [
        "<a href=\"https://colab.research.google.com/github/faisalmoinuddin99/01/blob/master/Day_5.ipynb\" target=\"_parent\"><img src=\"https://colab.research.google.com/assets/colab-badge.svg\" alt=\"Open In Colab\"/></a>"
      ]
    },
    {
      "cell_type": "code",
      "execution_count": 4,
      "metadata": {
        "id": "TBYRVEUF4AVj"
      },
      "outputs": [],
      "source": [
        "todo_list = ['wake up at 5', 'go for running', 'bath','breakfast']\n",
        "mapping = {}\n",
        "\n",
        "for index, value in enumerate(todo_list):\n",
        "  mapping[index] = value"
      ]
    },
    {
      "cell_type": "code",
      "source": [
        "mapping"
      ],
      "metadata": {
        "colab": {
          "base_uri": "https://localhost:8080/"
        },
        "id": "p7MGsTFk45c6",
        "outputId": "6be878e7-3597-4366-a919-b626913ccaf7"
      },
      "execution_count": 5,
      "outputs": [
        {
          "output_type": "execute_result",
          "data": {
            "text/plain": [
              "{0: 'wake up at 5', 1: 'go for running', 2: 'bath', 3: 'breakfast'}"
            ]
          },
          "metadata": {},
          "execution_count": 5
        }
      ]
    },
    {
      "cell_type": "code",
      "source": [
        "# excercise\n",
        "\n",
        "word = 'my name is narendra'\n",
        "\n",
        "#1. extract the 'name' from the above string\n",
        "name=word[3:7]\n",
        "name"
      ],
      "metadata": {
        "colab": {
          "base_uri": "https://localhost:8080/",
          "height": 35
        },
        "id": "xESYfr0n5HhX",
        "outputId": "3476d2cd-de23-4913-9d3f-304255ba0e3d"
      },
      "execution_count": 6,
      "outputs": [
        {
          "output_type": "execute_result",
          "data": {
            "text/plain": [
              "'name'"
            ],
            "application/vnd.google.colaboratory.intrinsic+json": {
              "type": "string"
            }
          },
          "metadata": {},
          "execution_count": 6
        }
      ]
    },
    {
      "cell_type": "code",
      "source": [
        "#2. extract 'is' from string\n",
        "\n",
        "ex_is = word[7:10]\n",
        "ex_is"
      ],
      "metadata": {
        "colab": {
          "base_uri": "https://localhost:8080/",
          "height": 35
        },
        "id": "p3y8R2qG8bNk",
        "outputId": "12c0b333-7912-415a-8ada-6fc837db3cb2"
      },
      "execution_count": 8,
      "outputs": [
        {
          "output_type": "execute_result",
          "data": {
            "text/plain": [
              "' is'"
            ],
            "application/vnd.google.colaboratory.intrinsic+json": {
              "type": "string"
            }
          },
          "metadata": {},
          "execution_count": 8
        }
      ]
    },
    {
      "cell_type": "code",
      "source": [
        "#3. extract 'name' in reverse order\n",
        "\n",
        "rev_name = name[::-1]\n",
        "rev_name"
      ],
      "metadata": {
        "colab": {
          "base_uri": "https://localhost:8080/",
          "height": 35
        },
        "id": "X8NlXTEv8klU",
        "outputId": "32a0de58-a558-4ec1-c223-c15b2f8fdf92"
      },
      "execution_count": 10,
      "outputs": [
        {
          "output_type": "execute_result",
          "data": {
            "text/plain": [
              "'eman'"
            ],
            "application/vnd.google.colaboratory.intrinsic+json": {
              "type": "string"
            }
          },
          "metadata": {},
          "execution_count": 10
        }
      ]
    },
    {
      "cell_type": "code",
      "source": [
        "#4. extract 'narendra' from the string\n",
        "\n",
        "name_narendra = word[11:]\n",
        "name_narendra"
      ],
      "metadata": {
        "colab": {
          "base_uri": "https://localhost:8080/",
          "height": 35
        },
        "id": "jz0Lmg2c8tKL",
        "outputId": "107ea5e1-e074-463d-eb93-0889fcb981a3"
      },
      "execution_count": 11,
      "outputs": [
        {
          "output_type": "execute_result",
          "data": {
            "text/plain": [
              "'narendra'"
            ],
            "application/vnd.google.colaboratory.intrinsic+json": {
              "type": "string"
            }
          },
          "metadata": {},
          "execution_count": 11
        }
      ]
    },
    {
      "cell_type": "code",
      "source": [
        "#5. extract 'narendra' in reverse order\n",
        "\n",
        "rev_narendra = name_narendra[::-1]\n",
        "rev_narendra"
      ],
      "metadata": {
        "colab": {
          "base_uri": "https://localhost:8080/",
          "height": 35
        },
        "id": "rEbeeX4l87dp",
        "outputId": "0f59db12-da17-4216-8f39-4a03180e580d"
      },
      "execution_count": 12,
      "outputs": [
        {
          "output_type": "execute_result",
          "data": {
            "text/plain": [
              "'ardneran'"
            ],
            "application/vnd.google.colaboratory.intrinsic+json": {
              "type": "string"
            }
          },
          "metadata": {},
          "execution_count": 12
        }
      ]
    },
    {
      "cell_type": "code",
      "source": [
        "l1 = list(range(1,10))\n",
        "l1"
      ],
      "metadata": {
        "colab": {
          "base_uri": "https://localhost:8080/"
        },
        "id": "QrRG-Nxi9E59",
        "outputId": "3222ccd3-dba0-4d7c-b098-d4e440edb215"
      },
      "execution_count": 13,
      "outputs": [
        {
          "output_type": "execute_result",
          "data": {
            "text/plain": [
              "[1, 2, 3, 4, 5, 6, 7, 8, 9]"
            ]
          },
          "metadata": {},
          "execution_count": 13
        }
      ]
    },
    {
      "cell_type": "code",
      "source": [
        "#1. extract [3,4,5,6,7] from list\n",
        "\n",
        "ext1 = l1[2:7]\n",
        "ext1"
      ],
      "metadata": {
        "colab": {
          "base_uri": "https://localhost:8080/"
        },
        "id": "X_AWsfnt9K_i",
        "outputId": "ca481073-b6aa-4132-e237-88cf13e0959e"
      },
      "execution_count": 15,
      "outputs": [
        {
          "output_type": "execute_result",
          "data": {
            "text/plain": [
              "[3, 4, 5, 6, 7]"
            ]
          },
          "metadata": {},
          "execution_count": 15
        }
      ]
    },
    {
      "cell_type": "code",
      "source": [
        "#2. extract [6,7,8,9] from list\n",
        "mapping = {}\n",
        "for index,value in enumerate(l1):\n",
        "  mapping[value] = index\n",
        "\n",
        "mapping"
      ],
      "metadata": {
        "colab": {
          "base_uri": "https://localhost:8080/"
        },
        "id": "3aCvshyC9UlI",
        "outputId": "9a93ffb0-1fb0-4790-b3f2-460e117d5ed5"
      },
      "execution_count": 16,
      "outputs": [
        {
          "output_type": "execute_result",
          "data": {
            "text/plain": [
              "{1: 0, 2: 1, 3: 2, 4: 3, 5: 4, 6: 5, 7: 6, 8: 7, 9: 8}"
            ]
          },
          "metadata": {},
          "execution_count": 16
        }
      ]
    },
    {
      "cell_type": "code",
      "source": [
        "ext2 = l1[5:]\n",
        "ext2"
      ],
      "metadata": {
        "colab": {
          "base_uri": "https://localhost:8080/"
        },
        "id": "grqQw6A89ngF",
        "outputId": "2db6a02d-4672-4e3d-bff1-a7643469d19a"
      },
      "execution_count": 18,
      "outputs": [
        {
          "output_type": "execute_result",
          "data": {
            "text/plain": [
              "[6, 7, 8, 9]"
            ]
          },
          "metadata": {},
          "execution_count": 18
        }
      ]
    },
    {
      "cell_type": "code",
      "source": [
        "l3 = [3,4]\n",
        "l4 = [4,5]\n",
        "\n",
        "l3.extend(l4)\n"
      ],
      "metadata": {
        "id": "CDWjE0Ex9wUL"
      },
      "execution_count": 19,
      "outputs": []
    },
    {
      "cell_type": "code",
      "source": [
        "l3"
      ],
      "metadata": {
        "colab": {
          "base_uri": "https://localhost:8080/"
        },
        "id": "oLXMwlfjEZFK",
        "outputId": "33e2121b-be1f-41bc-cbb3-52b64b47199c"
      },
      "execution_count": 20,
      "outputs": [
        {
          "output_type": "execute_result",
          "data": {
            "text/plain": [
              "[3, 4, 4, 5]"
            ]
          },
          "metadata": {},
          "execution_count": 20
        }
      ]
    },
    {
      "cell_type": "code",
      "source": [
        "# add 7 at the of the list, l7=[3,4,5]\n",
        "l7 = [3,4,5]\n",
        "l7.append(7)\n",
        "l7"
      ],
      "metadata": {
        "colab": {
          "base_uri": "https://localhost:8080/"
        },
        "id": "WnC5RxJ8EaFE",
        "outputId": "cec46091-ab27-4ce1-ec95-cd34a7d0e81a"
      },
      "execution_count": 21,
      "outputs": [
        {
          "output_type": "execute_result",
          "data": {
            "text/plain": [
              "[3, 4, 5, 7]"
            ]
          },
          "metadata": {},
          "execution_count": 21
        }
      ]
    },
    {
      "cell_type": "code",
      "source": [],
      "metadata": {
        "id": "Ucw2q9ptE2cJ"
      },
      "execution_count": null,
      "outputs": []
    }
  ]
}
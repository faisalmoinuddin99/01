{
  "nbformat": 4,
  "nbformat_minor": 0,
  "metadata": {
    "colab": {
      "provenance": [],
      "authorship_tag": "ABX9TyOWySf1g5aDNSdf0T6yVOn8",
      "include_colab_link": true
    },
    "kernelspec": {
      "name": "python3",
      "display_name": "Python 3"
    },
    "language_info": {
      "name": "python"
    }
  },
  "cells": [
    {
      "cell_type": "markdown",
      "metadata": {
        "id": "view-in-github",
        "colab_type": "text"
      },
      "source": [
        "<a href=\"https://colab.research.google.com/github/faisalmoinuddin99/01/blob/master/DAY_2_Basics_of_Python.ipynb\" target=\"_parent\"><img src=\"https://colab.research.google.com/assets/colab-badge.svg\" alt=\"Open In Colab\"/></a>"
      ]
    },
    {
      "cell_type": "code",
      "execution_count": 1,
      "metadata": {
        "id": "3EV_h4iquyFU"
      },
      "outputs": [],
      "source": [
        "b = [1,2,3]"
      ]
    },
    {
      "cell_type": "code",
      "source": [
        "print(b)"
      ],
      "metadata": {
        "colab": {
          "base_uri": "https://localhost:8080/"
        },
        "id": "Jx2pI6yGu-N5",
        "outputId": "77032306-ad88-4f12-ec8f-4ef0aec4bc1e"
      },
      "execution_count": 2,
      "outputs": [
        {
          "output_type": "stream",
          "name": "stdout",
          "text": [
            "[1, 2, 3]\n"
          ]
        }
      ]
    },
    {
      "cell_type": "markdown",
      "source": [
        "Introspection:\n",
        "\n",
        "? - Using this question mark before or after any variable will display some general information about the object"
      ],
      "metadata": {
        "id": "b4IkauH3vZhW"
      }
    },
    {
      "cell_type": "code",
      "source": [
        "?print"
      ],
      "metadata": {
        "id": "DrxnddTRvD8Y"
      },
      "execution_count": 5,
      "outputs": []
    },
    {
      "cell_type": "code",
      "source": [
        "?b"
      ],
      "metadata": {
        "id": "lqaPii_Dvthx"
      },
      "execution_count": 7,
      "outputs": []
    },
    {
      "cell_type": "markdown",
      "source": [
        "# Variables"
      ],
      "metadata": {
        "id": "gh7jkvhzx-O5"
      }
    },
    {
      "cell_type": "code",
      "source": [
        " a = 5\n",
        " b = 6\n",
        " c = a + b\n",
        " print(c)"
      ],
      "metadata": {
        "colab": {
          "base_uri": "https://localhost:8080/"
        },
        "id": "oAaaI7J9vxz-",
        "outputId": "99834493-84df-46a9-8cf7-42def2897d60"
      },
      "execution_count": 8,
      "outputs": [
        {
          "output_type": "stream",
          "name": "stdout",
          "text": [
            "11\n"
          ]
        }
      ]
    },
    {
      "cell_type": "markdown",
      "source": [
        "### Rules for declaring variables"
      ],
      "metadata": {
        "id": "9fRaXa-pyrRo"
      }
    },
    {
      "cell_type": "code",
      "source": [
        "# 1. variable should starts with alphabet.\n",
        "\n",
        "s = 90"
      ],
      "metadata": {
        "id": "-glHUI8wyum-"
      },
      "execution_count": 11,
      "outputs": []
    },
    {
      "cell_type": "code",
      "source": [
        "# 2. there should be no space in variable\n",
        "# 3. variable should not contain special character\n",
        "# 4. ' _ ' can be used in variables"
      ],
      "metadata": {
        "id": "UhS2o8-Yy3sF"
      },
      "execution_count": 12,
      "outputs": []
    },
    {
      "cell_type": "markdown",
      "source": [
        "# Data Types"
      ],
      "metadata": {
        "id": "J7VvDR9_0AxK"
      }
    },
    {
      "cell_type": "code",
      "source": [
        "# 1. Numerical\n",
        "# A. Integer\n",
        "# B. Floating Point\n",
        "\n",
        "# 2. String"
      ],
      "metadata": {
        "id": "f3zZg19A0EEx"
      },
      "execution_count": 13,
      "outputs": []
    },
    {
      "cell_type": "code",
      "source": [
        "var1 = \"I am string variable\"\n",
        "type(var1)"
      ],
      "metadata": {
        "colab": {
          "base_uri": "https://localhost:8080/"
        },
        "id": "2jZt2Ai00bCJ",
        "outputId": "0adb316b-0e20-45df-c648-9babd8a81e71"
      },
      "execution_count": 15,
      "outputs": [
        {
          "output_type": "execute_result",
          "data": {
            "text/plain": [
              "str"
            ]
          },
          "metadata": {},
          "execution_count": 15
        }
      ]
    },
    {
      "cell_type": "code",
      "source": [
        "pi = 3.14\n",
        "type(pi)"
      ],
      "metadata": {
        "colab": {
          "base_uri": "https://localhost:8080/"
        },
        "id": "6fzCM39U0zjl",
        "outputId": "8ef42ad4-8b31-4e5a-a355-42b36508d8a6"
      },
      "execution_count": 16,
      "outputs": [
        {
          "output_type": "execute_result",
          "data": {
            "text/plain": [
              "float"
            ]
          },
          "metadata": {},
          "execution_count": 16
        }
      ]
    },
    {
      "cell_type": "code",
      "source": [
        "count = 7\n",
        "type(count)"
      ],
      "metadata": {
        "colab": {
          "base_uri": "https://localhost:8080/"
        },
        "id": "YeoYz4Px075D",
        "outputId": "4250892c-db75-4dfe-fb93-3a6de982d211"
      },
      "execution_count": 17,
      "outputs": [
        {
          "output_type": "execute_result",
          "data": {
            "text/plain": [
              "int"
            ]
          },
          "metadata": {},
          "execution_count": 17
        }
      ]
    },
    {
      "cell_type": "code",
      "source": [
        "num1 = 10\n",
        "num2 = 98\n",
        "addition = num1 + num2\n",
        "print(f\"Addition - {addition}\")"
      ],
      "metadata": {
        "colab": {
          "base_uri": "https://localhost:8080/"
        },
        "id": "dX-4S9Vd0-6U",
        "outputId": "e0efe978-4f4a-4ffe-b12e-74d8b84fc6a8"
      },
      "execution_count": 21,
      "outputs": [
        {
          "output_type": "stream",
          "name": "stdout",
          "text": [
            "Addition - 108\n"
          ]
        }
      ]
    },
    {
      "cell_type": "code",
      "source": [
        "def add_two_number(a, b):\n",
        "  \"\"\"\n",
        "    Add two number togther\n",
        "\n",
        "    Returns\n",
        "    -------\n",
        "    the_sum : type of arguments\n",
        "  \"\"\"\n",
        "  return a+b"
      ],
      "metadata": {
        "id": "tRFrHW9S1pkp"
      },
      "execution_count": 22,
      "outputs": []
    },
    {
      "cell_type": "code",
      "source": [
        "add_two_number??"
      ],
      "metadata": {
        "id": "MzA-cFkF2vZJ"
      },
      "execution_count": 25,
      "outputs": []
    },
    {
      "cell_type": "code",
      "source": [
        "print(add_two_number(10,20))"
      ],
      "metadata": {
        "colab": {
          "base_uri": "https://localhost:8080/"
        },
        "id": "OjKos_0m2xxY",
        "outputId": "5e0ab4e7-dbd3-4feb-9368-2f9e7f14b969"
      },
      "execution_count": 24,
      "outputs": [
        {
          "output_type": "stream",
          "name": "stdout",
          "text": [
            "30\n"
          ]
        }
      ]
    },
    {
      "cell_type": "code",
      "source": [
        "def f(x,y,z):\n",
        "  return (x + y) / z\n",
        "\n",
        "\n",
        "a = 5\n",
        "b = 6\n",
        "c = 7.5\n",
        "\n",
        "result = f(a,b,c)\n",
        "print(result)"
      ],
      "metadata": {
        "colab": {
          "base_uri": "https://localhost:8080/"
        },
        "id": "4nOZWxVm25pm",
        "outputId": "343dac81-e8a5-448f-ca52-d3db8a8b1553"
      },
      "execution_count": 27,
      "outputs": [
        {
          "output_type": "stream",
          "name": "stdout",
          "text": [
            "1.4666666666666666\n"
          ]
        }
      ]
    },
    {
      "cell_type": "code",
      "source": [
        "lst = [1,3,4]\n",
        "for i in lst:\n",
        "  print(f\"{i}\\t\")"
      ],
      "metadata": {
        "colab": {
          "base_uri": "https://localhost:8080/"
        },
        "id": "QQxYqujo4Qte",
        "outputId": "789669c9-b757-4f70-a4a9-dff67ebbda30"
      },
      "execution_count": 31,
      "outputs": [
        {
          "output_type": "stream",
          "name": "stdout",
          "text": [
            "1\t\n",
            "3\t\n",
            "4\t\n"
          ]
        }
      ]
    },
    {
      "cell_type": "code",
      "source": [
        "a=10 ; b = 11 ; c =66"
      ],
      "metadata": {
        "id": "B4Fo2RYU58qN"
      },
      "execution_count": 32,
      "outputs": []
    },
    {
      "cell_type": "code",
      "source": [
        "lst1 = [1,4,5]\n",
        "lst2 = lst1\n",
        "print(lst2)"
      ],
      "metadata": {
        "colab": {
          "base_uri": "https://localhost:8080/"
        },
        "id": "6aorJiUu6nj6",
        "outputId": "c44f67e5-d110-4fc9-f1fe-dd78e6620cbb"
      },
      "execution_count": 33,
      "outputs": [
        {
          "output_type": "stream",
          "name": "stdout",
          "text": [
            "[1, 4, 5]\n"
          ]
        }
      ]
    },
    {
      "cell_type": "code",
      "source": [
        "lst2.append(8)\n",
        "print(lst1)"
      ],
      "metadata": {
        "colab": {
          "base_uri": "https://localhost:8080/"
        },
        "id": "_nQ6_ejC7jY4",
        "outputId": "9d8d8d2e-4b21-4959-b2d5-5fc5e9590c3e"
      },
      "execution_count": 34,
      "outputs": [
        {
          "output_type": "stream",
          "name": "stdout",
          "text": [
            "[1, 4, 5, 8]\n"
          ]
        }
      ]
    },
    {
      "cell_type": "code",
      "source": [
        "def append_element(list_of_data, data):\n",
        "  list_of_data.append(data)"
      ],
      "metadata": {
        "id": "sK_eSKGv7npQ"
      },
      "execution_count": 36,
      "outputs": []
    },
    {
      "cell_type": "code",
      "source": [
        "append_element(lst1, 10)\n",
        "print(lst2)"
      ],
      "metadata": {
        "colab": {
          "base_uri": "https://localhost:8080/"
        },
        "id": "1VloHtld8cwT",
        "outputId": "0da87609-1dc3-4f40-fb19-b9dcc361dd13"
      },
      "execution_count": 37,
      "outputs": [
        {
          "output_type": "stream",
          "name": "stdout",
          "text": [
            "[1, 4, 5, 8, 10]\n"
          ]
        }
      ]
    },
    {
      "cell_type": "code",
      "source": [
        "isinstance(lst, list)"
      ],
      "metadata": {
        "colab": {
          "base_uri": "https://localhost:8080/"
        },
        "id": "BStsbRfR8sqe",
        "outputId": "1122fe90-7bb1-485e-fcd6-4f38452cbc46"
      },
      "execution_count": 38,
      "outputs": [
        {
          "output_type": "execute_result",
          "data": {
            "text/plain": [
              "True"
            ]
          },
          "metadata": {},
          "execution_count": 38
        }
      ]
    },
    {
      "cell_type": "code",
      "source": [
        "isinstance(lst, int)"
      ],
      "metadata": {
        "colab": {
          "base_uri": "https://localhost:8080/"
        },
        "id": "Az4dHxKn_VdZ",
        "outputId": "615c45e7-e619-4d7e-ba77-9285b9953964"
      },
      "execution_count": 39,
      "outputs": [
        {
          "output_type": "execute_result",
          "data": {
            "text/plain": [
              "False"
            ]
          },
          "metadata": {},
          "execution_count": 39
        }
      ]
    },
    {
      "cell_type": "code",
      "source": [
        "# Type of print statment\n",
        "# 1. comma separated\n",
        "\n",
        "print('My name is foo')"
      ],
      "metadata": {
        "colab": {
          "base_uri": "https://localhost:8080/"
        },
        "id": "7iFzWKKN_Z70",
        "outputId": "d82a675d-fba6-49e8-bae8-7ca7563cdcc2"
      },
      "execution_count": 40,
      "outputs": [
        {
          "output_type": "stream",
          "name": "stdout",
          "text": [
            "My name is foo\n"
          ]
        }
      ]
    },
    {
      "cell_type": "code",
      "source": [
        "name='faisal'\n",
        "print('my name is ',name)"
      ],
      "metadata": {
        "colab": {
          "base_uri": "https://localhost:8080/"
        },
        "id": "TxWMjeWGAOs3",
        "outputId": "9531c167-9b61-46a5-d09d-a0207dbd43f4"
      },
      "execution_count": 43,
      "outputs": [
        {
          "output_type": "stream",
          "name": "stdout",
          "text": [
            "my name is  faisal\n"
          ]
        }
      ]
    },
    {
      "cell_type": "code",
      "source": [],
      "metadata": {
        "id": "xFsu7cZQAoiu"
      },
      "execution_count": null,
      "outputs": []
    }
  ]
}
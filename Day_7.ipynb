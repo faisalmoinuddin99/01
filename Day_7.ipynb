{
  "nbformat": 4,
  "nbformat_minor": 0,
  "metadata": {
    "colab": {
      "provenance": [],
      "authorship_tag": "ABX9TyO9dnTbZdd0Hb0/lpRLpB3R",
      "include_colab_link": true
    },
    "kernelspec": {
      "name": "python3",
      "display_name": "Python 3"
    },
    "language_info": {
      "name": "python"
    }
  },
  "cells": [
    {
      "cell_type": "markdown",
      "metadata": {
        "id": "view-in-github",
        "colab_type": "text"
      },
      "source": [
        "<a href=\"https://colab.research.google.com/github/faisalmoinuddin99/01/blob/master/Day_7.ipynb\" target=\"_parent\"><img src=\"https://colab.research.google.com/assets/colab-badge.svg\" alt=\"Open In Colab\"/></a>"
      ]
    },
    {
      "cell_type": "markdown",
      "source": [
        "List, Set, and Dict Comprehensions"
      ],
      "metadata": {
        "id": "a5Lz9LyW2xah"
      }
    },
    {
      "cell_type": "code",
      "execution_count": null,
      "metadata": {
        "id": "Mu0wZqOj2VQi"
      },
      "outputs": [],
      "source": [
        "strings = ['a','as','bat','dove','car','python']"
      ]
    },
    {
      "cell_type": "code",
      "source": [
        "[x.upper() for x in strings if len(x) > 2]"
      ],
      "metadata": {
        "colab": {
          "base_uri": "https://localhost:8080/"
        },
        "id": "T6ZbNP2I3Obl",
        "outputId": "34448ab7-53c8-467d-919e-a6e8f68e3eeb"
      },
      "execution_count": null,
      "outputs": [
        {
          "output_type": "execute_result",
          "data": {
            "text/plain": [
              "['BAT', 'DOVE', 'CAR', 'PYTHON']"
            ]
          },
          "metadata": {},
          "execution_count": 3
        }
      ]
    },
    {
      "cell_type": "code",
      "source": [
        "[x.lower() for x in strings]"
      ],
      "metadata": {
        "colab": {
          "base_uri": "https://localhost:8080/"
        },
        "id": "4fsoo88D3agR",
        "outputId": "787b6260-afeb-4270-bda1-c697dfae30e7"
      },
      "execution_count": null,
      "outputs": [
        {
          "output_type": "execute_result",
          "data": {
            "text/plain": [
              "['a', 'as', 'bat', 'dove', 'car', 'python']"
            ]
          },
          "metadata": {},
          "execution_count": 4
        }
      ]
    },
    {
      "cell_type": "markdown",
      "source": [
        "# Question 1: Squares of Even Numbers\n"
      ],
      "metadata": {
        "id": "TzXIiUGt41tf"
      }
    },
    {
      "cell_type": "code",
      "source": [
        "x = [4, 16, 36, 64, 100]"
      ],
      "metadata": {
        "id": "K6XTVOca37AL"
      },
      "execution_count": null,
      "outputs": []
    },
    {
      "cell_type": "code",
      "source": [
        "[i**2 for i in x]"
      ],
      "metadata": {
        "colab": {
          "base_uri": "https://localhost:8080/"
        },
        "id": "H1DZy-nM4_BO",
        "outputId": "3bb78c03-2bef-4037-801e-44dc2a816ee5"
      },
      "execution_count": null,
      "outputs": [
        {
          "output_type": "execute_result",
          "data": {
            "text/plain": [
              "[16, 256, 1296, 4096, 10000]"
            ]
          },
          "metadata": {},
          "execution_count": 7
        }
      ]
    },
    {
      "cell_type": "markdown",
      "source": [
        "# Question 2: Vowel Counter\n"
      ],
      "metadata": {
        "id": "m_oarih75QkI"
      }
    },
    {
      "cell_type": "code",
      "source": [
        "text = \"Hello, how are you?\"\n"
      ],
      "metadata": {
        "id": "f7qeHw6y5G3g"
      },
      "execution_count": null,
      "outputs": []
    },
    {
      "cell_type": "code",
      "source": [
        "vowels = ['a','e','i','o','u']"
      ],
      "metadata": {
        "id": "9hrHC-VK5ZH1"
      },
      "execution_count": null,
      "outputs": []
    },
    {
      "cell_type": "code",
      "source": [
        "vowelsCounter = sum(1 for char in text.lower() if char in vowels)"
      ],
      "metadata": {
        "id": "7-K6MC8L52Ag"
      },
      "execution_count": null,
      "outputs": []
    },
    {
      "cell_type": "code",
      "source": [
        "vowelsCounter"
      ],
      "metadata": {
        "colab": {
          "base_uri": "https://localhost:8080/"
        },
        "id": "m8ytcJu76vpK",
        "outputId": "b4a4af55-2622-47ee-fb29-80fea6bdd5ee"
      },
      "execution_count": null,
      "outputs": [
        {
          "output_type": "execute_result",
          "data": {
            "text/plain": [
              "7"
            ]
          },
          "metadata": {},
          "execution_count": 12
        }
      ]
    },
    {
      "cell_type": "markdown",
      "source": [
        "# consonant Counter\n"
      ],
      "metadata": {
        "id": "B8JnVQTK7K8O"
      }
    },
    {
      "cell_type": "code",
      "source": [
        "characters_to_ignore = [' ', ',', '?', '!']"
      ],
      "metadata": {
        "id": "_WrFc8CQ724O"
      },
      "execution_count": null,
      "outputs": []
    },
    {
      "cell_type": "code",
      "source": [
        "filtered_text = ''.join(char for char in text.lower() if char not in characters_to_ignore)"
      ],
      "metadata": {
        "id": "cItQBuyb6w9e"
      },
      "execution_count": null,
      "outputs": []
    },
    {
      "cell_type": "code",
      "source": [
        "filtered_text"
      ],
      "metadata": {
        "colab": {
          "base_uri": "https://localhost:8080/",
          "height": 35
        },
        "id": "rd86fLlJ7hh4",
        "outputId": "e9684eba-d9dd-4d76-8ef3-b09b10ac8356"
      },
      "execution_count": null,
      "outputs": [
        {
          "output_type": "execute_result",
          "data": {
            "text/plain": [
              "'hellohowareyou'"
            ],
            "application/vnd.google.colaboratory.intrinsic+json": {
              "type": "string"
            }
          },
          "metadata": {},
          "execution_count": 21
        }
      ]
    },
    {
      "cell_type": "code",
      "source": [
        "consonantCounter1 = [x for x in filtered_text if x not in vowels]"
      ],
      "metadata": {
        "id": "n_vtOKtd7jNI"
      },
      "execution_count": null,
      "outputs": []
    },
    {
      "cell_type": "code",
      "source": [
        "consonantCounter1"
      ],
      "metadata": {
        "colab": {
          "base_uri": "https://localhost:8080/"
        },
        "id": "dCrupgvr94ah",
        "outputId": "b1cf3266-6c05-47a0-a2eb-39b57492ffbe"
      },
      "execution_count": null,
      "outputs": [
        {
          "output_type": "execute_result",
          "data": {
            "text/plain": [
              "['h', 'l', 'l', 'h', 'w', 'r', 'y']"
            ]
          },
          "metadata": {},
          "execution_count": 41
        }
      ]
    },
    {
      "cell_type": "code",
      "source": [
        "len(consonantCounter1)"
      ],
      "metadata": {
        "colab": {
          "base_uri": "https://localhost:8080/"
        },
        "id": "BbVYfFqO92sj",
        "outputId": "16c7029f-484e-4450-ba94-1cb8bdfae8d8"
      },
      "execution_count": null,
      "outputs": [
        {
          "output_type": "execute_result",
          "data": {
            "text/plain": [
              "7"
            ]
          },
          "metadata": {},
          "execution_count": 42
        }
      ]
    },
    {
      "cell_type": "code",
      "source": [
        "consonantCounter2 = sum(1 for x in filtered_text if x not in vowels)"
      ],
      "metadata": {
        "id": "9Vz_gw6bBIu7"
      },
      "execution_count": null,
      "outputs": []
    },
    {
      "cell_type": "code",
      "source": [
        "consonantCounter2"
      ],
      "metadata": {
        "colab": {
          "base_uri": "https://localhost:8080/"
        },
        "id": "IaDkDdZWBSGw",
        "outputId": "a5c0a406-e170-4c95-a216-6e8815fa0a18"
      },
      "execution_count": null,
      "outputs": [
        {
          "output_type": "execute_result",
          "data": {
            "text/plain": [
              "7"
            ]
          },
          "metadata": {},
          "execution_count": 44
        }
      ]
    },
    {
      "cell_type": "markdown",
      "source": [
        "# Question 3: Nested List Flattening\n",
        "\n"
      ],
      "metadata": {
        "id": "wLMBQCo--lpL"
      }
    },
    {
      "cell_type": "code",
      "source": [
        "nested_list = [[1, 2, 3], [4, 5], [6, 7, 8, 9]]"
      ],
      "metadata": {
        "id": "dJdudQoh-lMB"
      },
      "execution_count": null,
      "outputs": []
    },
    {
      "cell_type": "code",
      "source": [
        "flattered_list = [upper_list for sub_list in nested_list for upper_list in sub_list]"
      ],
      "metadata": {
        "id": "XT0bEcwi-o3X"
      },
      "execution_count": null,
      "outputs": []
    },
    {
      "cell_type": "code",
      "source": [
        "# fetch only odd numbers\n",
        "\n",
        "[odd_no for odd_no in flattered_list if odd_no % 2 != 0]"
      ],
      "metadata": {
        "colab": {
          "base_uri": "https://localhost:8080/"
        },
        "id": "NQ6NNXxb-ule",
        "outputId": "b00bda95-8241-4849-9e1a-02674e883492"
      },
      "execution_count": null,
      "outputs": [
        {
          "output_type": "execute_result",
          "data": {
            "text/plain": [
              "[1, 3, 5, 7, 9]"
            ]
          },
          "metadata": {},
          "execution_count": 34
        }
      ]
    },
    {
      "cell_type": "code",
      "source": [
        "# fetch only even numbers\n",
        "[even_no**2 for even_no in flattered_list if even_no % 2 == 0]"
      ],
      "metadata": {
        "colab": {
          "base_uri": "https://localhost:8080/"
        },
        "id": "y9PFiAQk_kLF",
        "outputId": "d0ed5965-efcd-45e4-ca94-c59189ffc030"
      },
      "execution_count": null,
      "outputs": [
        {
          "output_type": "execute_result",
          "data": {
            "text/plain": [
              "[4, 16, 36, 64]"
            ]
          },
          "metadata": {},
          "execution_count": 36
        }
      ]
    },
    {
      "cell_type": "code",
      "source": [
        "'''\n",
        "Question 1: Filtering Numbers\n",
        "\n",
        "Generate a list of squares of numbers from 1 to 10, but only include those that are divisible by 3.\n",
        "'''"
      ],
      "metadata": {
        "colab": {
          "base_uri": "https://localhost:8080/",
          "height": 35
        },
        "id": "5S8Bddm3_w7L",
        "outputId": "e615e092-6875-4f99-9f58-017545d012e3"
      },
      "execution_count": null,
      "outputs": [
        {
          "output_type": "execute_result",
          "data": {
            "text/plain": [
              "'\\nQuestion 1: Filtering Numbers\\n\\nGenerate a list of squares of numbers from 1 to 10, but only include those that are divisible by 3.\\n'"
            ],
            "application/vnd.google.colaboratory.intrinsic+json": {
              "type": "string"
            }
          },
          "metadata": {},
          "execution_count": 37
        }
      ]
    },
    {
      "cell_type": "code",
      "source": [
        "[x**2 for x in range(1,11) if x % 3 == 0]"
      ],
      "metadata": {
        "colab": {
          "base_uri": "https://localhost:8080/"
        },
        "id": "xc-upUFRArxC",
        "outputId": "42baad85-d731-4f3f-fb8f-e816bee4903f"
      },
      "execution_count": null,
      "outputs": [
        {
          "output_type": "execute_result",
          "data": {
            "text/plain": [
              "[9, 36, 81]"
            ]
          },
          "metadata": {},
          "execution_count": 38
        }
      ]
    },
    {
      "cell_type": "code",
      "source": [
        "'''\n",
        "Question 2: Uppercase Vowels\n",
        "\n",
        "Given a string, create a list containing the uppercase version of vowels present in the string.\n",
        "'''"
      ],
      "metadata": {
        "id": "EmhKjbd3A2HS"
      },
      "execution_count": null,
      "outputs": []
    },
    {
      "cell_type": "code",
      "source": [
        "text = \"Python is awesome\"\n"
      ],
      "metadata": {
        "id": "rL9N2gU2Bc5o"
      },
      "execution_count": null,
      "outputs": []
    },
    {
      "cell_type": "code",
      "source": [
        "[x for x in text.upper() if x not in 'AEIOU' and x not in characters_to_ignore]"
      ],
      "metadata": {
        "colab": {
          "base_uri": "https://localhost:8080/"
        },
        "id": "mj12H9vrB0cv",
        "outputId": "64943299-d0eb-4b42-9118-e5f1d8fcea31"
      },
      "execution_count": null,
      "outputs": [
        {
          "output_type": "execute_result",
          "data": {
            "text/plain": [
              "['P', 'Y', 'T', 'H', 'N', 'S', 'W', 'S', 'M']"
            ]
          },
          "metadata": {},
          "execution_count": 50
        }
      ]
    },
    {
      "cell_type": "code",
      "source": [
        "sum(1 for x in text.upper() if x not in 'AEIOU' and x not in characters_to_ignore)"
      ],
      "metadata": {
        "colab": {
          "base_uri": "https://localhost:8080/"
        },
        "id": "WzHqf7WhB_u4",
        "outputId": "0442211b-d60d-473c-ac66-6eb1946e6fe1"
      },
      "execution_count": null,
      "outputs": [
        {
          "output_type": "execute_result",
          "data": {
            "text/plain": [
              "9"
            ]
          },
          "metadata": {},
          "execution_count": 51
        }
      ]
    },
    {
      "cell_type": "markdown",
      "source": [
        "# Nested list comprehensions\n"
      ],
      "metadata": {
        "id": "O-gxxgqxEjSq"
      }
    },
    {
      "cell_type": "code",
      "source": [
        "all_data = [['Mery','Jhon','Emily','Michael','Steven'],['Maria','Juan','Javier','Natalia','Pilar']]"
      ],
      "metadata": {
        "id": "y9XPMNfgDh5P"
      },
      "execution_count": null,
      "outputs": []
    },
    {
      "cell_type": "code",
      "source": [
        "all_data"
      ],
      "metadata": {
        "colab": {
          "base_uri": "https://localhost:8080/"
        },
        "id": "xR-UNglxE6sy",
        "outputId": "343d63b5-bc75-49d7-cc5b-7328814655dd"
      },
      "execution_count": null,
      "outputs": [
        {
          "output_type": "execute_result",
          "data": {
            "text/plain": [
              "[['Mery', 'Jhon', 'Emily', 'Michael', 'Steven'],\n",
              " ['Maria', 'Juan', 'Javier', 'Natalia', 'Pilar']]"
            ]
          },
          "metadata": {},
          "execution_count": 53
        }
      ]
    },
    {
      "cell_type": "code",
      "source": [
        "[english for spanish in all_data for english in spanish]"
      ],
      "metadata": {
        "colab": {
          "base_uri": "https://localhost:8080/"
        },
        "id": "EhfvQIIRE7mP",
        "outputId": "c8e3b51d-6a0d-4c61-ff70-cfe3e6f7c95b"
      },
      "execution_count": null,
      "outputs": [
        {
          "output_type": "execute_result",
          "data": {
            "text/plain": [
              "['Mery',\n",
              " 'Jhon',\n",
              " 'Emily',\n",
              " 'Michael',\n",
              " 'Steven',\n",
              " 'Maria',\n",
              " 'Juan',\n",
              " 'Javier',\n",
              " 'Natalia',\n",
              " 'Pilar']"
            ]
          },
          "metadata": {},
          "execution_count": 59
        }
      ]
    },
    {
      "cell_type": "code",
      "source": [
        "some_tuple = [(1,2,3),(4,5,6),(7,8,9)]\n",
        "\n",
        "type(some_tuple)"
      ],
      "metadata": {
        "colab": {
          "base_uri": "https://localhost:8080/"
        },
        "id": "zg2p88zvFP8Q",
        "outputId": "94ce57ad-8a29-4ee0-b9e9-9e925288bef2"
      },
      "execution_count": null,
      "outputs": [
        {
          "output_type": "execute_result",
          "data": {
            "text/plain": [
              "list"
            ]
          },
          "metadata": {},
          "execution_count": 64
        }
      ]
    },
    {
      "cell_type": "code",
      "source": [
        "[x for y in some_tuple for x in y if x % 2 == 0]"
      ],
      "metadata": {
        "colab": {
          "base_uri": "https://localhost:8080/"
        },
        "id": "jCsXkbREGD27",
        "outputId": "126e481e-98d6-4486-fc34-636374971f03"
      },
      "execution_count": null,
      "outputs": [
        {
          "output_type": "execute_result",
          "data": {
            "text/plain": [
              "[2, 4, 6, 8]"
            ]
          },
          "metadata": {},
          "execution_count": 65
        }
      ]
    },
    {
      "cell_type": "code",
      "source": [],
      "metadata": {
        "id": "nM6nUjwrGM22"
      },
      "execution_count": null,
      "outputs": []
    }
  ]
}